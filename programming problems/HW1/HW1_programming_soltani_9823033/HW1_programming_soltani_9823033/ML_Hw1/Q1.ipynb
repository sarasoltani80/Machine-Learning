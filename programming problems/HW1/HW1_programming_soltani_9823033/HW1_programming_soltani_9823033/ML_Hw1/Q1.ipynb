{
 "cells": [
  {
   "cell_type": "code",
   "execution_count": 240,
   "id": "ddd34b02",
   "metadata": {},
   "outputs": [],
   "source": [
    "import pandas as pd\n",
    "import numpy as np\n",
    "import matplotlib.pyplot as plt"
   ]
  },
  {
   "cell_type": "markdown",
   "id": "998a9d3c",
   "metadata": {},
   "source": [
    "q1_part(a)"
   ]
  },
  {
   "cell_type": "code",
   "execution_count": 241,
   "id": "14a1c8e9",
   "metadata": {},
   "outputs": [
    {
     "name": "stdout",
     "output_type": "stream",
     "text": [
      "     area  bedrooms  bathrooms  stories  mainroad  guestroom  basement  \\\n",
      "0    7420         4          2        3         1          0         0   \n",
      "1    8960         4          4        4         1          0         0   \n",
      "2    9960         3          2        2         1          0         1   \n",
      "3    7500         4          2        2         1          0         1   \n",
      "4    7420         4          1        2         1          1         1   \n",
      "..    ...       ...        ...      ...       ...        ...       ...   \n",
      "540  3000         2          1        1         1          0         1   \n",
      "541  2400         3          1        1         0          0         0   \n",
      "542  3620         2          1        1         1          0         0   \n",
      "543  2910         3          1        1         0          0         0   \n",
      "544  3850         3          1        2         1          0         0   \n",
      "\n",
      "     parking   price  \n",
      "0          2  791000  \n",
      "1          3  919000  \n",
      "2          2  994000  \n",
      "3          3  811000  \n",
      "4          2  801000  \n",
      "..       ...     ...  \n",
      "540        2  474000  \n",
      "541        0  373000  \n",
      "542        0  471000  \n",
      "543        0  402000  \n",
      "544        0  499000  \n",
      "\n",
      "[545 rows x 9 columns]\n"
     ]
    }
   ],
   "source": [
    "houses = pd.read_csv(\"C:/Users/acer/Desktop/ML_Hw1/house_prices.csv\")\n",
    "print(houses)"
   ]
  },
  {
   "cell_type": "code",
   "execution_count": 242,
   "id": "d4e2c5ba",
   "metadata": {},
   "outputs": [
    {
     "data": {
      "text/plain": [
       "((545, 8), (545, 1))"
      ]
     },
     "execution_count": 242,
     "metadata": {},
     "output_type": "execute_result"
    }
   ],
   "source": [
    "X = houses.drop(columns=['price']).to_numpy()\n",
    "Y = houses['price'].to_numpy().reshape(-1, 1)\n",
    "\n",
    "X.shape, Y.shape"
   ]
  },
  {
   "cell_type": "code",
   "execution_count": 243,
   "id": "299b56f4",
   "metadata": {},
   "outputs": [],
   "source": [
    "def zscore_normalize_features(X):\n",
    "    \n",
    "    # find the mean of each column/feature\n",
    "    mu = np.mean(X, axis=0) \n",
    "    \n",
    "    # find the standard deviation of each column/feature\n",
    "    sigma = np.std(X, axis=0) \n",
    "    \n",
    "    #subtract mu for that column from each example, divide by std for that column\n",
    "    X_norm = (X - mu) / sigma      \n",
    "\n",
    "    return X_norm"
   ]
  },
  {
   "cell_type": "code",
   "execution_count": 244,
   "id": "d480a36a",
   "metadata": {},
   "outputs": [],
   "source": [
    "def min_max_norm(X , Y):\n",
    "    X_norm = (X - X.min()) / (X.max() - X.min())\n",
    "    #y_norm = (Y - Y.min()) / (Y.max() - Y.min())\n",
    "    return X_norm"
   ]
  },
  {
   "cell_type": "code",
   "execution_count": 245,
   "id": "ef167bdd",
   "metadata": {},
   "outputs": [],
   "source": [
    "# normalize the original features\n",
    "#X_norm = zscore_normalize_features(X)\n",
    "#X_norm"
   ]
  },
  {
   "cell_type": "code",
   "execution_count": 246,
   "id": "4f3f9c18",
   "metadata": {},
   "outputs": [],
   "source": [
    "X_norm = min_max_norm(X , Y)"
   ]
  },
  {
   "cell_type": "code",
   "execution_count": 247,
   "id": "6bc1d573",
   "metadata": {},
   "outputs": [
    {
     "data": {
      "text/plain": [
       "array([[4.58024691e-01, 2.46913580e-04, 1.23456790e-04, ...,\n",
       "        0.00000000e+00, 1.23456790e-04, 1.00000000e+00],\n",
       "       [5.53086420e-01, 2.46913580e-04, 2.46913580e-04, ...,\n",
       "        0.00000000e+00, 1.85185185e-04, 1.00000000e+00],\n",
       "       [6.14814815e-01, 1.85185185e-04, 1.23456790e-04, ...,\n",
       "        6.17283951e-05, 1.23456790e-04, 1.00000000e+00],\n",
       "       ...,\n",
       "       [2.23456790e-01, 1.23456790e-04, 6.17283951e-05, ...,\n",
       "        0.00000000e+00, 0.00000000e+00, 1.00000000e+00],\n",
       "       [1.79629630e-01, 1.85185185e-04, 6.17283951e-05, ...,\n",
       "        0.00000000e+00, 0.00000000e+00, 1.00000000e+00],\n",
       "       [2.37654321e-01, 1.85185185e-04, 6.17283951e-05, ...,\n",
       "        0.00000000e+00, 0.00000000e+00, 1.00000000e+00]])"
      ]
     },
     "execution_count": 247,
     "metadata": {},
     "output_type": "execute_result"
    }
   ],
   "source": [
    "X_bias = np.ones((X.shape[0],1))\n",
    "Xnew = np.hstack((X_norm,X_bias))\n",
    "Xnew"
   ]
  },
  {
   "cell_type": "markdown",
   "id": "d09ad81e",
   "metadata": {},
   "source": [
    "q1_part(b)"
   ]
  },
  {
   "cell_type": "code",
   "execution_count": 248,
   "id": "924075bb",
   "metadata": {},
   "outputs": [],
   "source": [
    "def calculate_cost_func(X , Y , w):\n",
    "    \n",
    "    f_model = np.dot(X, w)\n",
    "    cost = np.sum((f_model-Y)**2)\n",
    "    \n",
    "    final_cost = cost/(2*Y.shape[0])\n",
    "    \n",
    "    return final_cost  "
   ]
  },
  {
   "cell_type": "code",
   "execution_count": 249,
   "id": "f76513de",
   "metadata": {},
   "outputs": [],
   "source": [
    "def calculate_gradiant(X , Y , w):\n",
    "    new_dw=np.zeros([X.shape[1], 1])\n",
    "    #print(new_dw)\n",
    "    \n",
    "    for j in range(Y.shape[0]):\n",
    "        error = np.dot(X[j] , w) - Y[j]\n",
    "        for i in range(X.shape[1]):\n",
    "            new_dw[i] = new_dw[i] + error * X[j,i]\n",
    "            #print(new_dw[i])\n",
    "    #print(new_dw)  \n",
    "    new_dw = new_dw/Y.shape[0]\n",
    "    #print(new_dw)\n",
    "    #print(new_db.shape)\n",
    "    return new_dw"
   ]
  },
  {
   "cell_type": "code",
   "execution_count": 250,
   "id": "d7eb670b",
   "metadata": {},
   "outputs": [],
   "source": [
    "def batch_gradiant(X , Y , w , alpha , iteration):\n",
    "    cost_history=[]\n",
    "    \n",
    "    for i in range(iteration):\n",
    "        new_dw = calculate_gradiant(X , Y , w)\n",
    "    #print(new_dw)\n",
    "    #print(new_db)\n",
    "        w = w - (alpha * new_dw)\n",
    "    #print(w.shape) \n",
    "        cost = calculate_cost_func(X , Y , w)\n",
    "        cost_history.append(cost)\n",
    "    return cost_history , w"
   ]
  },
  {
   "cell_type": "code",
   "execution_count": 264,
   "id": "7967c2e1",
   "metadata": {},
   "outputs": [
    {
     "name": "stdout",
     "output_type": "stream",
     "text": [
      "Time elapsed (hh:mm:ss.ms) 0:00:01.026254\n",
      "30057822271.41042\n"
     ]
    }
   ],
   "source": [
    "w=np.ones([Xnew.shape[1], 1])\n",
    "\n",
    "from datetime import datetime \n",
    "start_time = datetime.now() \n",
    "\n",
    "cost_list , w = batch_gradiant(Xnew , Y , w , 0.01, 100)\n",
    "\n",
    "print('Time elapsed (hh:mm:ss.ms) {}'.format(datetime.now() - start_time))\n",
    "\n",
    "updated_w = w\n",
    "print(cost_list[99])"
   ]
  },
  {
   "cell_type": "code",
   "execution_count": 235,
   "id": "17ac9e7e",
   "metadata": {},
   "outputs": [
    {
     "name": "stdout",
     "output_type": "stream",
     "text": [
      "30057822271.41042\n"
     ]
    }
   ],
   "source": [
    "MyModel_MSE = calculate_cost_func(Xnew , Y , updated_w)\n",
    "print(MyModel_MSE)"
   ]
  },
  {
   "cell_type": "code",
   "execution_count": 236,
   "id": "920ef383",
   "metadata": {},
   "outputs": [
    {
     "data": {
      "text/plain": [
       "Text(0, 0.5, 'Cost')"
      ]
     },
     "execution_count": 236,
     "metadata": {},
     "output_type": "execute_result"
    },
    {
     "data": {
      "image/png": "[encoded data removed]",
      "text/plain": [
       "<Figure size 432x288 with 1 Axes>"
      ]
     },
     "metadata": {
      "needs_background": "light"
     },
     "output_type": "display_data"
    }
   ],
   "source": [
    "plt.plot(range(100), cost_list, c='green')\n",
    "plt.xlabel(\"Number of iterations\")\n",
    "plt.ylabel(\"Cost\")"
   ]
  },
  {
   "cell_type": "markdown",
   "id": "07c6dbb0",
   "metadata": {},
   "source": [
    "q1_partc"
   ]
  },
  {
   "cell_type": "code",
   "execution_count": 185,
   "id": "4ab6c286",
   "metadata": {},
   "outputs": [
    {
     "name": "stdout",
     "output_type": "stream",
     "text": [
      "[1.05674369e+09]\n"
     ]
    }
   ],
   "source": [
    "X_test = np.array([7700, 3, 2, 1, 1, 0, 0, 2, 1])\n",
    "#X_test_norm = zscore_normalize_features(X_test)\n",
    "#n12 = np.squeeze(np.asarray(X_test_norm))\n",
    "#print(n12)\n",
    "f_model = np.dot(X_test , updated_w) \n",
    "print(f_model)"
   ]
  },
  {
   "cell_type": "markdown",
   "id": "1f3254c1",
   "metadata": {},
   "source": [
    "q1_part_D"
   ]
  },
  {
   "cell_type": "code",
   "execution_count": 186,
   "id": "4823e4b6",
   "metadata": {},
   "outputs": [],
   "source": [
    "def calculate_SGD(X , Y , w , alpha , iteration):\n",
    "    cost_history=[0] * iteration\n",
    "    #cost_history=[]\n",
    "    for i in range(iteration):\n",
    "        for j in range(Y.shape[0]):\n",
    "            index = np.random.randint(Y.shape[0])\n",
    "            Yj= Y[index:index+1]\n",
    "            Xj= X[index:index+1]\n",
    "            \n",
    "            f_model = np.dot(Xj, w)\n",
    "            w = w - alpha * 2 * Xj.T.dot(f_model-Yj)\n",
    "            #cost = calculate_cost_func(Xj , Yj , w)\n",
    "            #cost_history.append(cost)\n",
    "            cost_history[i] = calculate_cost_func(Xj , Yj , w)\n",
    "            \n",
    "    return cost_history , w"
   ]
  },
  {
   "cell_type": "code",
   "execution_count": 187,
   "id": "c7f16687",
   "metadata": {},
   "outputs": [
    {
     "name": "stdout",
     "output_type": "stream",
     "text": [
      "422899194.99732876\n"
     ]
    }
   ],
   "source": [
    "w=np.ones([Xnew.shape[1], 1])\n",
    "SGD_cost_list , w = calculate_SGD(Xnew , Y , w , 0.01 , 100)\n",
    "print(SGD_cost_list[99])"
   ]
  },
  {
   "cell_type": "code",
   "execution_count": 188,
   "id": "d2a1f300",
   "metadata": {},
   "outputs": [
    {
     "data": {
      "text/plain": [
       "Text(0, 0.5, 'Cost')"
      ]
     },
     "execution_count": 188,
     "metadata": {},
     "output_type": "execute_result"
    },
    {
     "data": {
      "image/png": "[encoded data removed]",
      "text/plain": [
       "<Figure size 432x288 with 1 Axes>"
      ]
     },
     "metadata": {
      "needs_background": "light"
     },
     "output_type": "display_data"
    }
   ],
   "source": [
    "plt.plot(range(100), SGD_cost_list, c='green')\n",
    "#plt.title(\"SGD_results\")\n",
    "plt.xlabel(\"Number of iterations\")\n",
    "plt.ylabel(\"Cost\")"
   ]
  },
  {
   "cell_type": "code",
   "execution_count": 189,
   "id": "75cb6177",
   "metadata": {},
   "outputs": [],
   "source": [
    "def create_mini_batches(X, Y, batch_size):\n",
    "    mini_batches = []\n",
    "    data = np.hstack((X, Y))\n",
    "    np.random.shuffle(data)\n",
    "    n_minibatches = data.shape[0] // batch_size\n",
    "    i = 0\n",
    "    for i in range(n_minibatches + 1):\n",
    "        mini_batch = data[i * batch_size:(i + 1)*batch_size, :]\n",
    "        X_mini = mini_batch[:, :-1]\n",
    "        Y_mini = mini_batch[:, -1].reshape((-1, 1))\n",
    "        mini_batches.append((X_mini, Y_mini))\n",
    "    if data.shape[0] % batch_size != 0:\n",
    "        mini_batch = data[i * batch_size:data.shape[0]]\n",
    "        X_mini = mini_batch[:, :-1]\n",
    "        Y_mini = mini_batch[:, -1].reshape((-1, 1))\n",
    "        mini_batches.append((X_mini, Y_mini))\n",
    "    return mini_batches"
   ]
  },
  {
   "cell_type": "code",
   "execution_count": 190,
   "id": "772ed87b",
   "metadata": {},
   "outputs": [],
   "source": [
    "def calculate_mini_batch_grad(X , Y , w , alpha , iteration , batch_size):\n",
    "    cost_history = []\n",
    "    \n",
    "    for i in range(iteration):\n",
    "        mini_batches = create_mini_batches(X, Y, batch_size)\n",
    "        for mini_batch in mini_batches:\n",
    "            X_mini, y_mini = mini_batch\n",
    "            f_model = np.dot(X_mini,w)\n",
    "            w = w - (alpha * (np.dot(X_mini.T , (f_model-y_mini))/batch_size))\n",
    "            cost = calculate_cost_func(X_mini, y_mini , w)\n",
    "            cost_history.append(cost)\n",
    "    return cost_history , w"
   ]
  },
  {
   "cell_type": "code",
   "execution_count": 191,
   "id": "96d2e9f2",
   "metadata": {},
   "outputs": [
    {
     "name": "stdout",
     "output_type": "stream",
     "text": [
      "36000\n",
      "495090860.7162784\n"
     ]
    }
   ],
   "source": [
    "w_bgd=np.ones([Xnew.shape[1], 1])\n",
    "BGD_cost_list , w_bgd = calculate_mini_batch_grad(Xnew , Y , w_bgd , 0.7 , 1000 , 16)\n",
    "print(len(BGD_cost_list))\n",
    "print(BGD_cost_list[99])"
   ]
  },
  {
   "cell_type": "code",
   "execution_count": 192,
   "id": "d1e160a0",
   "metadata": {},
   "outputs": [
    {
     "data": {
      "text/plain": [
       "Text(0, 0.5, 'Cost')"
      ]
     },
     "execution_count": 192,
     "metadata": {},
     "output_type": "execute_result"
    },
    {
     "data": {
      "image/png": "[encoded data removed]",
      "text/plain": [
       "<Figure size 432x288 with 1 Axes>"
      ]
     },
     "metadata": {
      "needs_background": "light"
     },
     "output_type": "display_data"
    }
   ],
   "source": [
    "plt.plot(range(36000), BGD_cost_list, c='green')\n",
    "#plt.title(\"SGD_results\")\n",
    "plt.xlabel(\"Number of iterations\")\n",
    "plt.ylabel(\"Cost\")"
   ]
  },
  {
   "cell_type": "code",
   "execution_count": 227,
   "id": "6838fc7c",
   "metadata": {},
   "outputs": [
    {
     "name": "stdout",
     "output_type": "stream",
     "text": [
      "35194.733872397315\n",
      "59.085324444057285\n",
      "7173704430.830024\n"
     ]
    }
   ],
   "source": [
    "min_GD_cost = min(cost_list)\n",
    "min_SGD_cost = min(SGD_cost_list)\n",
    "min_BGD_cost = min(BGD_cost_list)\n",
    "\n",
    "print(min_SGD_cost)\n",
    "print(min_BGD_cost)\n",
    "print(min_GD_cost)"
   ]
  },
  {
   "cell_type": "markdown",
   "id": "1d0c1466",
   "metadata": {},
   "source": [
    "q1_part_e"
   ]
  },
  {
   "cell_type": "markdown",
   "id": "2abb8bc0",
   "metadata": {},
   "source": [
    "with alpha = 0.9 bigger alpha"
   ]
  },
  {
   "cell_type": "code",
   "execution_count": 230,
   "id": "a3715a52",
   "metadata": {},
   "outputs": [],
   "source": [
    "w=np.ones([Xnew.shape[1], 1])\n",
    "GD_cost_list2 , w = batch_gradiant(Xnew , Y , w , 0.9, 100)"
   ]
  },
  {
   "cell_type": "code",
   "execution_count": 231,
   "id": "bceb9821",
   "metadata": {},
   "outputs": [
    {
     "data": {
      "text/plain": [
       "Text(0, 0.5, 'Cost')"
      ]
     },
     "execution_count": 231,
     "metadata": {},
     "output_type": "execute_result"
    },
    {
     "data": {
      "image/png": "[encoded data removed]",
      "text/plain": [
       "<Figure size 432x288 with 1 Axes>"
      ]
     },
     "metadata": {
      "needs_background": "light"
     },
     "output_type": "display_data"
    }
   ],
   "source": [
    "plt.plot(range(100), GD_cost_list2, c='green')\n",
    "plt.xlabel(\"Number of iterations\")\n",
    "plt.ylabel(\"Cost\")"
   ]
  },
  {
   "cell_type": "code",
   "execution_count": 232,
   "id": "527f131d",
   "metadata": {},
   "outputs": [
    {
     "data": {
      "text/plain": [
       "100"
      ]
     },
     "execution_count": 232,
     "metadata": {},
     "output_type": "execute_result"
    }
   ],
   "source": [
    "w=np.ones([Xnew.shape[1], 1])\n",
    "SGD_cost_list2 , w = calculate_SGD(Xnew , Y , w , 0.9 , 100)\n",
    "len(SGD_cost_list)"
   ]
  },
  {
   "cell_type": "code",
   "execution_count": 197,
   "id": "c46749a2",
   "metadata": {},
   "outputs": [
    {
     "data": {
      "text/plain": [
       "Text(0, 0.5, 'Cost')"
      ]
     },
     "execution_count": 197,
     "metadata": {},
     "output_type": "execute_result"
    },
    {
     "data": {
      "image/png": "[encoded data removed]",
      "text/plain": [
       "<Figure size 432x288 with 1 Axes>"
      ]
     },
     "metadata": {
      "needs_background": "light"
     },
     "output_type": "display_data"
    }
   ],
   "source": [
    "plt.plot(range(100), SGD_cost_list2, c='green')\n",
    "#plt.title(\"SGD_results\")\n",
    "plt.xlabel(\"Number of iterations\")\n",
    "plt.ylabel(\"Cost\")"
   ]
  },
  {
   "cell_type": "code",
   "execution_count": 198,
   "id": "6251836b",
   "metadata": {},
   "outputs": [
    {
     "data": {
      "text/plain": [
       "36000"
      ]
     },
     "execution_count": 198,
     "metadata": {},
     "output_type": "execute_result"
    }
   ],
   "source": [
    "w_bgd=np.ones([Xnew.shape[1], 1])\n",
    "BGD_cost_list2 , w_bgd = calculate_mini_batch_grad(Xnew , Y , w_bgd , 0.9 , 1000 , 16)\n",
    "len(BGD_cost_list)"
   ]
  },
  {
   "cell_type": "code",
   "execution_count": 199,
   "id": "bfaa3eef",
   "metadata": {},
   "outputs": [
    {
     "data": {
      "text/plain": [
       "Text(0, 0.5, 'Cost')"
      ]
     },
     "execution_count": 199,
     "metadata": {},
     "output_type": "execute_result"
    },
    {
     "data": {
      "image/png": "[encoded data removed]",
      "text/plain": [
       "<Figure size 432x288 with 1 Axes>"
      ]
     },
     "metadata": {
      "needs_background": "light"
     },
     "output_type": "display_data"
    }
   ],
   "source": [
    "plt.plot(range(36000), BGD_cost_list2, c='green')\n",
    "#plt.title(\"SGD_results\")\n",
    "plt.xlabel(\"Number of iterations\")\n",
    "plt.ylabel(\"Cost\")"
   ]
  },
  {
   "cell_type": "code",
   "execution_count": 237,
   "id": "e014ca4b",
   "metadata": {},
   "outputs": [
    {
     "data": {
      "text/plain": [
       "Text(0, 0.5, 'Cost')"
      ]
     },
     "execution_count": 237,
     "metadata": {},
     "output_type": "execute_result"
    },
    {
     "data": {
      "image/png": "[encoded data removed]",
      "text/plain": [
       "<Figure size 432x288 with 1 Axes>"
      ]
     },
     "metadata": {
      "needs_background": "light"
     },
     "output_type": "display_data"
    }
   ],
   "source": [
    "#alpha = 0.9\n",
    "plt.plot(range(100), GD_cost_list2, c='red') \n",
    "\n",
    "#alpha = 0.01\n",
    "plt.plot(range(100), cost_list, c='green')\n",
    "\n",
    "plt.xlabel(\"Number of iterations\")\n",
    "plt.ylabel(\"Cost\")\n"
   ]
  },
  {
   "cell_type": "code",
   "execution_count": 202,
   "id": "dd8237f5",
   "metadata": {},
   "outputs": [
    {
     "data": {
      "text/plain": [
       "Text(0, 0.5, 'Cost')"
      ]
     },
     "execution_count": 202,
     "metadata": {},
     "output_type": "execute_result"
    },
    {
     "data": {
      "image/png": "[encoded data removed]",
      "text/plain": [
       "<Figure size 432x288 with 1 Axes>"
      ]
     },
     "metadata": {
      "needs_background": "light"
     },
     "output_type": "display_data"
    }
   ],
   "source": [
    "#alpha=0.01\n",
    "plt.plot(range(100), SGD_cost_list, c='green')\n",
    "\n",
    "#alpha=0.9\n",
    "plt.plot(range(100), SGD_cost_list2, c='red')\n",
    "plt.xlabel(\"Number of iterations\")\n",
    "plt.ylabel(\"Cost\")"
   ]
  },
  {
   "cell_type": "code",
   "execution_count": 203,
   "id": "8e1c68c4",
   "metadata": {},
   "outputs": [
    {
     "data": {
      "text/plain": [
       "Text(0, 0.5, 'Cost')"
      ]
     },
     "execution_count": 203,
     "metadata": {},
     "output_type": "execute_result"
    },
    {
     "data": {
      "image/png": "[encoded data removed]",
      "text/plain": [
       "<Figure size 432x288 with 1 Axes>"
      ]
     },
     "metadata": {
      "needs_background": "light"
     },
     "output_type": "display_data"
    }
   ],
   "source": [
    "plt.plot(range(36000), BGD_cost_list, c='green')\n",
    "plt.plot(range(36000), BGD_cost_list2, c='red')\n",
    "\n",
    "plt.xlabel(\"Number of iterations\")\n",
    "plt.ylabel(\"Cost\")"
   ]
  },
  {
   "cell_type": "markdown",
   "id": "74c816fe",
   "metadata": {},
   "source": [
    "alpha = 1e-8 , smaller alpha "
   ]
  },
  {
   "cell_type": "code",
   "execution_count": 204,
   "id": "53e91a9a",
   "metadata": {},
   "outputs": [],
   "source": [
    "w=np.ones([Xnew.shape[1], 1])\n",
    "GD_cost_list3 , w = batch_gradiant(Xnew , Y , w , 1e-8, 100)"
   ]
  },
  {
   "cell_type": "code",
   "execution_count": 205,
   "id": "d32a5c94",
   "metadata": {},
   "outputs": [],
   "source": [
    "w=np.ones([Xnew.shape[1], 1])\n",
    "SGD_cost_list3 , w = calculate_SGD(Xnew , Y , w , 1e-8 , 100)"
   ]
  },
  {
   "cell_type": "code",
   "execution_count": 211,
   "id": "3ffd4a58",
   "metadata": {},
   "outputs": [],
   "source": [
    "w_bgd=np.ones([Xnew.shape[1], 1])\n",
    "BGD_cost_list3 , w_bgd = calculate_mini_batch_grad(Xnew , Y , w_bgd , 1e-8 , 1000 , 16)"
   ]
  },
  {
   "cell_type": "code",
   "execution_count": 207,
   "id": "97178bf6",
   "metadata": {},
   "outputs": [
    {
     "data": {
      "text/plain": [
       "Text(0, 0.5, 'Cost')"
      ]
     },
     "execution_count": 207,
     "metadata": {},
     "output_type": "execute_result"
    },
    {
     "data": {
      "image/png": "[encoded data removed]",
      "text/plain": [
       "<Figure size 432x288 with 1 Axes>"
      ]
     },
     "metadata": {
      "needs_background": "light"
     },
     "output_type": "display_data"
    }
   ],
   "source": [
    "#alpha = 1e-8\n",
    "plt.plot(range(100), GD_cost_list3, c='red') \n",
    "\n",
    "#alpha = 0.001\n",
    "plt.plot(range(100), cost_list, c='green')\n",
    "\n",
    "plt.xlabel(\"Number of iterations\")\n",
    "plt.ylabel(\"Cost\")"
   ]
  },
  {
   "cell_type": "code",
   "execution_count": 208,
   "id": "f9adf00f",
   "metadata": {},
   "outputs": [
    {
     "data": {
      "text/plain": [
       "Text(0, 0.5, 'Cost')"
      ]
     },
     "execution_count": 208,
     "metadata": {},
     "output_type": "execute_result"
    },
    {
     "data": {
      "image/png": "[encoded data removed]",
      "text/plain": [
       "<Figure size 432x288 with 1 Axes>"
      ]
     },
     "metadata": {
      "needs_background": "light"
     },
     "output_type": "display_data"
    }
   ],
   "source": [
    "#alpha=0.001\n",
    "plt.plot(range(100), SGD_cost_list, c='green')\n",
    "\n",
    "#alpha = 1e-8\n",
    "plt.plot(range(100), SGD_cost_list3, c='red')\n",
    "plt.xlabel(\"Number of iterations\")\n",
    "plt.ylabel(\"Cost\")"
   ]
  },
  {
   "cell_type": "code",
   "execution_count": 212,
   "id": "3de44c43",
   "metadata": {},
   "outputs": [
    {
     "data": {
      "text/plain": [
       "Text(0, 0.5, 'Cost')"
      ]
     },
     "execution_count": 212,
     "metadata": {},
     "output_type": "execute_result"
    },
    {
     "data": {
      "image/png": "[encoded data removed]",
      "text/plain": [
       "<Figure size 432x288 with 1 Axes>"
      ]
     },
     "metadata": {
      "needs_background": "light"
     },
     "output_type": "display_data"
    }
   ],
   "source": [
    "plt.plot(range(36000), BGD_cost_list, c='green')\n",
    "plt.plot(range(36000), BGD_cost_list3, c='red')\n",
    "\n",
    "plt.xlabel(\"Number of iterations\")\n",
    "plt.ylabel(\"Cost\")"
   ]
  },
  {
   "cell_type": "markdown",
   "id": "76be3421",
   "metadata": {},
   "source": [
    "q1_part_F"
   ]
  },
  {
   "cell_type": "code",
   "execution_count": 261,
   "id": "21303880",
   "metadata": {},
   "outputs": [],
   "source": [
    "from sklearn.linear_model import LinearRegression as LinearRegression2\n",
    "from sklearn.preprocessing import StandardScaler\n",
    "from sklearn.metrics import mean_squared_error"
   ]
  },
  {
   "cell_type": "code",
   "execution_count": 262,
   "id": "0922c26b",
   "metadata": {},
   "outputs": [
    {
     "data": {
      "text/plain": [
       "array([[4.58024691e-01, 2.46913580e-04, 1.23456790e-04, ...,\n",
       "        0.00000000e+00, 1.23456790e-04, 1.00000000e+00],\n",
       "       [5.53086420e-01, 2.46913580e-04, 2.46913580e-04, ...,\n",
       "        0.00000000e+00, 1.85185185e-04, 1.00000000e+00],\n",
       "       [6.14814815e-01, 1.85185185e-04, 1.23456790e-04, ...,\n",
       "        6.17283951e-05, 1.23456790e-04, 1.00000000e+00],\n",
       "       ...,\n",
       "       [2.23456790e-01, 1.23456790e-04, 6.17283951e-05, ...,\n",
       "        0.00000000e+00, 0.00000000e+00, 1.00000000e+00],\n",
       "       [1.79629630e-01, 1.85185185e-04, 6.17283951e-05, ...,\n",
       "        0.00000000e+00, 0.00000000e+00, 1.00000000e+00],\n",
       "       [2.37654321e-01, 1.85185185e-04, 6.17283951e-05, ...,\n",
       "        0.00000000e+00, 0.00000000e+00, 1.00000000e+00]])"
      ]
     },
     "execution_count": 262,
     "metadata": {},
     "output_type": "execute_result"
    }
   ],
   "source": [
    "X = houses.drop(columns=['price']).to_numpy()\n",
    "Y = houses['price'].to_numpy().reshape(-1, 1)\n",
    "\n",
    "X_norm = min_max_norm(X , Y)\n",
    "X_bias = np.ones((X.shape[0],1))\n",
    "X_new = np.hstack((X_norm,X_bias))\n",
    "X_new"
   ]
  },
  {
   "cell_type": "code",
   "execution_count": 263,
   "id": "33d1a68c",
   "metadata": {},
   "outputs": [
    {
     "name": "stdout",
     "output_type": "stream",
     "text": [
      "Time elapsed (hh:mm:ss.ms) 0:00:00.089159\n",
      "weights(sklearn): [[1.17834545e+06 2.37669076e+07 3.24534505e+07 1.27962907e+08\n",
      "  2.04126567e+08 7.75708091e+07 4.21075114e+08 1.33125005e+08\n",
      "  0.00000000e+00]]\n",
      "Mean squared error(sklearn): 32164897.032794468\n"
     ]
    }
   ],
   "source": [
    "reg = LinearRegression2()\n",
    "from datetime import datetime \n",
    "start_time = datetime.now() \n",
    "reg.fit(X_new, Y)\n",
    "\n",
    "y_pred = reg.predict(X_new)\n",
    "\n",
    "print('Time elapsed (hh:mm:ss.ms) {}'.format(datetime.now() - start_time))\n",
    "\n",
    "print(f\"weights(sklearn): {reg.coef_}\")\n",
    "print(f\"Mean squared error(sklearn): {mean_squared_error(Y, y_pred)}\")"
   ]
  },
  {
   "cell_type": "code",
   "execution_count": 113,
   "id": "aca659b6",
   "metadata": {},
   "outputs": [
    {
     "name": "stdout",
     "output_type": "stream",
     "text": [
      "160878446204.26193\n"
     ]
    }
   ],
   "source": [
    "MyModel_MSE = calculate_cost_func(Xnew , Y , updated_w)\n",
    "print(MyModel_MSE)"
   ]
  }
 ],
 "metadata": {
  "kernelspec": {
   "display_name": "Python 3",
   "language": "python",
   "name": "python3"
  },
  "language_info": {
   "codemirror_mode": {
    "name": "ipython",
    "version": 3
   },
   "file_extension": ".py",
   "mimetype": "text/x-python",
   "name": "python",
   "nbconvert_exporter": "python",
   "pygments_lexer": "ipython3",
   "version": "3.8.8"
  }
 },
 "nbformat": 4,
 "nbformat_minor": 5
}
