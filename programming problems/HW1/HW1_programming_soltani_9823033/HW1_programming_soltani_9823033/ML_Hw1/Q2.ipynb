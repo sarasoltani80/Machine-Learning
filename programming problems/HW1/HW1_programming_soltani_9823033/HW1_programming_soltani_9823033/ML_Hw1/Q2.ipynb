{
 "cells": [
  {
   "cell_type": "code",
   "execution_count": 52,
   "id": "158c7123",
   "metadata": {},
   "outputs": [],
   "source": [
    "import pandas as pd\n",
    "import numpy as np\n",
    "import matplotlib.pyplot as plt\n",
    "from sklearn.model_selection import train_test_split\n",
    "import numpy.polynomial.polynomial as poly"
   ]
  },
  {
   "cell_type": "markdown",
   "id": "96c3d695",
   "metadata": {},
   "source": [
    "q2_part_a"
   ]
  },
  {
   "cell_type": "code",
   "execution_count": 53,
   "id": "6a4dbc8b",
   "metadata": {},
   "outputs": [],
   "source": [
    "datas = pd.read_csv(\"C:/Users/acer/Desktop/ML_Hw1/Data.csv\")"
   ]
  },
  {
   "cell_type": "code",
   "execution_count": 54,
   "id": "151edf90",
   "metadata": {},
   "outputs": [],
   "source": [
    "X = datas.drop(columns=['Y']).to_numpy()\n",
    "Y = datas['Y'].to_numpy().reshape(-1, 1)\n",
    "\n",
    "X_bias = np.ones((X.shape[0],1))\n",
    "Xnew = np.hstack((X,X_bias))\n"
   ]
  },
  {
   "cell_type": "code",
   "execution_count": 55,
   "id": "d2b73439",
   "metadata": {},
   "outputs": [
    {
     "data": {
      "text/plain": [
       "(40, 2)"
      ]
     },
     "execution_count": 55,
     "metadata": {},
     "output_type": "execute_result"
    }
   ],
   "source": [
    "train, test = train_test_split(datas, test_size=0.2, random_state=10)\n",
    "train.shape"
   ]
  },
  {
   "cell_type": "code",
   "execution_count": 56,
   "id": "5a307b5f",
   "metadata": {},
   "outputs": [
    {
     "data": {
      "text/plain": [
       "(10, 2)"
      ]
     },
     "execution_count": 56,
     "metadata": {},
     "output_type": "execute_result"
    }
   ],
   "source": [
    "test.shape"
   ]
  },
  {
   "cell_type": "markdown",
   "id": "f40fa364",
   "metadata": {},
   "source": [
    "q2_part_b"
   ]
  },
  {
   "cell_type": "code",
   "execution_count": 57,
   "id": "7e37849d",
   "metadata": {},
   "outputs": [
    {
     "data": {
      "text/plain": [
       "(8, 2)"
      ]
     },
     "execution_count": 57,
     "metadata": {},
     "output_type": "execute_result"
    }
   ],
   "source": [
    "train , cv = train_test_split(train, test_size=0.2, random_state=10)\n",
    "cv.shape"
   ]
  },
  {
   "cell_type": "code",
   "execution_count": 58,
   "id": "bdfb77ef",
   "metadata": {},
   "outputs": [
    {
     "data": {
      "text/plain": [
       "(10, 2)"
      ]
     },
     "execution_count": 58,
     "metadata": {},
     "output_type": "execute_result"
    }
   ],
   "source": [
    "test.shape"
   ]
  },
  {
   "cell_type": "code",
   "execution_count": 59,
   "id": "434cbd05",
   "metadata": {},
   "outputs": [
    {
     "data": {
      "text/plain": [
       "(32, 2)"
      ]
     },
     "execution_count": 59,
     "metadata": {},
     "output_type": "execute_result"
    }
   ],
   "source": [
    "train.shape"
   ]
  },
  {
   "cell_type": "code",
   "execution_count": 60,
   "id": "0c1ad4bb",
   "metadata": {},
   "outputs": [
    {
     "data": {
      "text/plain": [
       "array([[ 0.61236076,  1.        ],\n",
       "       [-0.35478369,  1.        ],\n",
       "       [ 0.12212288,  1.        ],\n",
       "       [ 0.96162536,  1.        ],\n",
       "       [ 0.04106305,  1.        ],\n",
       "       [ 0.80559867,  1.        ],\n",
       "       [ 0.08048819,  1.        ],\n",
       "       [-0.02904514,  1.        ]])"
      ]
     },
     "execution_count": 60,
     "metadata": {},
     "output_type": "execute_result"
    }
   ],
   "source": [
    "X_cv = cv.drop(columns=['Y']).to_numpy()\n",
    "Y_cv = cv['Y'].to_numpy().reshape(-1, 1)\n",
    "\n",
    "X_bias = np.ones((X_cv.shape[0],1))\n",
    "X_cv = np.hstack((X_cv,X_bias))\n",
    "X_cv"
   ]
  },
  {
   "cell_type": "code",
   "execution_count": 61,
   "id": "8ebe91b0",
   "metadata": {},
   "outputs": [
    {
     "data": {
      "text/plain": [
       "array([[ 0.49043282,  1.        ],\n",
       "       [-0.07134597,  1.        ],\n",
       "       [ 0.76129033,  1.        ],\n",
       "       [ 0.68350555,  1.        ],\n",
       "       [ 0.88367018,  1.        ],\n",
       "       [-0.18999069,  1.        ],\n",
       "       [-0.87622084,  1.        ],\n",
       "       [ 0.20122934,  1.        ],\n",
       "       [-0.71568049,  1.        ],\n",
       "       [-0.75767175,  1.        ]])"
      ]
     },
     "execution_count": 61,
     "metadata": {},
     "output_type": "execute_result"
    }
   ],
   "source": [
    "X_test = test.drop(columns=['Y']).to_numpy()\n",
    "Y_test = test['Y'].to_numpy().reshape(-1, 1)\n",
    "\n",
    "X_bias = np.ones((X_test.shape[0],1))\n",
    "X_test = np.hstack((X_test,X_bias))\n",
    "X_test"
   ]
  },
  {
   "cell_type": "code",
   "execution_count": 62,
   "id": "9b334eeb",
   "metadata": {},
   "outputs": [
    {
     "data": {
      "text/plain": [
       "array([[-0.67504041,  1.        ],\n",
       "       [ 0.36864846,  1.        ],\n",
       "       [-0.14789673,  1.        ],\n",
       "       [ 0.40394395,  1.        ],\n",
       "       [ 0.29197362,  1.        ],\n",
       "       [-0.83816555,  1.        ],\n",
       "       [-0.43965765,  1.        ],\n",
       "       [ 0.01118258,  1.        ],\n",
       "       [-0.91999857,  1.        ],\n",
       "       [-0.23752373,  1.        ],\n",
       "       [-0.51744435,  1.        ],\n",
       "       [-0.39161916,  1.        ],\n",
       "       [ 0.32666457,  1.        ],\n",
       "       [-0.46902353,  1.        ],\n",
       "       [-0.31301638,  1.        ],\n",
       "       [-0.59476007,  1.        ],\n",
       "       [ 0.64935207,  1.        ],\n",
       "       [ 0.72986599,  1.        ],\n",
       "       [-0.95099594,  1.        ],\n",
       "       [ 0.44858126,  1.        ],\n",
       "       [-0.63326479,  1.        ],\n",
       "       [-0.27824516,  1.        ],\n",
       "       [ 0.5202286 ,  1.        ],\n",
       "       [-0.1160822 ,  1.        ],\n",
       "       [ 0.17097678,  1.        ],\n",
       "       [ 0.85135744,  1.        ],\n",
       "       [-0.55143476,  1.        ],\n",
       "       [ 0.92359719,  1.        ],\n",
       "       [ 0.5693768 ,  1.        ],\n",
       "       [-0.79884577,  1.        ],\n",
       "       [-0.99478723,  1.        ],\n",
       "       [ 0.24526385,  1.        ]])"
      ]
     },
     "execution_count": 62,
     "metadata": {},
     "output_type": "execute_result"
    }
   ],
   "source": [
    "X_train = train.drop(columns=['Y']).to_numpy()\n",
    "Y_train = train['Y'].to_numpy().reshape(-1, 1)\n",
    "\n",
    "X_bias = np.ones((X_train.shape[0],1))\n",
    "X_train = np.hstack((X_train,X_bias))\n",
    "X_train"
   ]
  },
  {
   "cell_type": "code",
   "execution_count": 63,
   "id": "b0bfcdb0",
   "metadata": {},
   "outputs": [],
   "source": [
    "def calculate_cost_func(X , Y , w):\n",
    "    \n",
    "    f_model = np.dot(X, w)\n",
    "    cost = np.sum((f_model-Y)**2)\n",
    "    \n",
    "    final_cost = cost/(2*Y.shape[0])\n",
    "    \n",
    "    return final_cost"
   ]
  },
  {
   "cell_type": "code",
   "execution_count": 64,
   "id": "2613eaa9",
   "metadata": {},
   "outputs": [],
   "source": [
    "def clcuate_batch_GD(X , Y, w, alpha, iteration):\n",
    "    cost_history=[]\n",
    "    \n",
    "    for i in range(iteration):\n",
    "        f_model = np.dot(X , w)\n",
    "        w = w - (alpha * (np.dot((f_model-Y).T , X).T)/Y.shape[0] )\n",
    "        cost = calculate_cost_func(X , Y , w)\n",
    "        cost_history.append(cost)\n",
    "        \n",
    "    return w , cost_history"
   ]
  },
  {
   "cell_type": "code",
   "execution_count": 65,
   "id": "0816b74f",
   "metadata": {},
   "outputs": [
    {
     "name": "stdout",
     "output_type": "stream",
     "text": [
      "4.946047727828189\n"
     ]
    }
   ],
   "source": [
    "cost_alpha=[]\n",
    "w=np.ones([X_train.shape[1], 1])\n",
    "w , batch_cost = clcuate_batch_GD(X_train , Y_train, w, 0.001, 1000)\n",
    "\n",
    "final_w_alpha_1 = w\n",
    "cost_alpha_1 = calculate_cost_func(X_cv , Y_cv , w)\n",
    "cost_alpha.append(cost_alpha_1)\n",
    "print(cost_alpha_1)"
   ]
  },
  {
   "cell_type": "code",
   "execution_count": 66,
   "id": "522c354d",
   "metadata": {},
   "outputs": [
    {
     "name": "stdout",
     "output_type": "stream",
     "text": [
      "0.9834694902965112\n"
     ]
    }
   ],
   "source": [
    "w=np.ones([X_train.shape[1], 1])\n",
    "w , batch_cost = clcuate_batch_GD(X_train , Y_train, w, 0.01, 1000)\n",
    "\n",
    "cost_alpha_2 = calculate_cost_func(X_cv , Y_cv , w)\n",
    "cost_alpha.append(cost_alpha_2)\n",
    "print(cost_alpha_2)"
   ]
  },
  {
   "cell_type": "code",
   "execution_count": 67,
   "id": "45947444",
   "metadata": {},
   "outputs": [
    {
     "name": "stdout",
     "output_type": "stream",
     "text": [
      "23.16231260933943\n"
     ]
    }
   ],
   "source": [
    "w=np.ones([X_train.shape[1], 1])\n",
    "w , batch_cost = clcuate_batch_GD(X_train , Y_train, w, 0.0001, 1000)\n",
    "\n",
    "cost_alpha_3 = calculate_cost_func(X_cv , Y_cv , w)\n",
    "cost_alpha.append(cost_alpha_3)\n",
    "print(cost_alpha_3)"
   ]
  },
  {
   "cell_type": "code",
   "execution_count": 68,
   "id": "cced4e94",
   "metadata": {},
   "outputs": [
    {
     "name": "stdout",
     "output_type": "stream",
     "text": [
      "27.977762085734426\n"
     ]
    }
   ],
   "source": [
    "w=np.ones([X_train.shape[1], 1])\n",
    "w , batch_cost = clcuate_batch_GD(X_train , Y_train, w, 1e-8, 1000)\n",
    "\n",
    "final_w_alpha_4 = w\n",
    "cost_alpha_4 = calculate_cost_func(X_cv , Y_cv , w)\n",
    "cost_alpha.append(cost_alpha_4)\n",
    "print(cost_alpha_4)"
   ]
  },
  {
   "cell_type": "code",
   "execution_count": 69,
   "id": "936f16dc",
   "metadata": {},
   "outputs": [
    {
     "name": "stdout",
     "output_type": "stream",
     "text": [
      "0.9787329934942215\n"
     ]
    }
   ],
   "source": [
    "w=np.ones([X_train.shape[1], 1])\n",
    "w , batch_cost = clcuate_batch_GD(X_train , Y_train, w, 0.05, 1000)\n",
    "\n",
    "#final_w = w\n",
    "cost_alpha_5 = calculate_cost_func(X_cv , Y_cv , w)\n",
    "cost_alpha.append(cost_alpha_5)\n",
    "print(cost_alpha_5)"
   ]
  },
  {
   "cell_type": "code",
   "execution_count": 82,
   "id": "ccf7330d",
   "metadata": {},
   "outputs": [
    {
     "name": "stdout",
     "output_type": "stream",
     "text": [
      "Time elapsed (hh:mm:ss.ms) 0:00:00.017916\n",
      "0.9787329798003808\n"
     ]
    }
   ],
   "source": [
    "from datetime import datetime \n",
    "start_time = datetime.now() \n",
    "\n",
    "w=np.ones([X_train.shape[1], 1])\n",
    "w , batch_cost = clcuate_batch_GD(X_train , Y_train, w, 0.1, 1000)\n",
    "print('Time elapsed (hh:mm:ss.ms) {}'.format(datetime.now() - start_time))\n",
    "\n",
    "final_w = w\n",
    "cost_alpha_6 = calculate_cost_func(X_cv , Y_cv , w)\n",
    "cost_alpha.append(cost_alpha_6)\n",
    "print(cost_alpha_6)"
   ]
  },
  {
   "cell_type": "code",
   "execution_count": 71,
   "id": "45a62c02",
   "metadata": {},
   "outputs": [
    {
     "data": {
      "text/plain": [
       "Text(0, 0.5, 'Cost')"
      ]
     },
     "execution_count": 71,
     "metadata": {},
     "output_type": "execute_result"
    },
    {
     "data": {
      "image/png": "[encoded data removed]",
      "text/plain": [
       "<Figure size 432x288 with 1 Axes>"
      ]
     },
     "metadata": {
      "needs_background": "light"
     },
     "output_type": "display_data"
    }
   ],
   "source": [
    "plt.plot(range(6), cost_alpha, c='red') \n",
    "\n",
    "plt.xlabel(\"value of alpha\")\n",
    "plt.ylabel(\"Cost\")"
   ]
  },
  {
   "cell_type": "markdown",
   "id": "e4efaab7",
   "metadata": {},
   "source": [
    "بنظر میرسد زمانی که نرخ یادگیری برابر 0.1 باشد کمترین خطا را خوهیم داشت روی مجموعه ارزیابی. هرچند زمانی که نرخ برابر 0.05 باشد نیز خطا بسیار نزدیک خواهد شد ولی نرخ یادگیری 0.1 در نهایت انتخاب بهتری میباشد"
   ]
  },
  {
   "cell_type": "markdown",
   "id": "04976352",
   "metadata": {},
   "source": [
    "##alpha = 0.1"
   ]
  },
  {
   "cell_type": "code",
   "execution_count": 72,
   "id": "c9505343",
   "metadata": {},
   "outputs": [
    {
     "name": "stdout",
     "output_type": "stream",
     "text": [
      "[-0.67504041  0.36864846 -0.14789673  0.40394395  0.29197362 -0.83816555\n",
      " -0.43965765  0.01118258 -0.91999857 -0.23752373 -0.51744435 -0.39161916\n",
      "  0.32666457 -0.46902353 -0.31301638 -0.59476007  0.64935207  0.72986599\n",
      " -0.95099594  0.44858126 -0.63326479 -0.27824516  0.5202286  -0.1160822\n",
      "  0.17097678  0.85135744 -0.55143476  0.92359719  0.5693768  -0.79884577\n",
      " -0.99478723  0.24526385]\n"
     ]
    },
    {
     "data": {
      "text/plain": [
       "[<matplotlib.lines.Line2D at 0x237dfe5b5e0>]"
      ]
     },
     "execution_count": 72,
     "metadata": {},
     "output_type": "execute_result"
    },
    {
     "data": {
      "image/png": "[encoded data removed]",
      "text/plain": [
       "<Figure size 432x288 with 1 Axes>"
      ]
     },
     "metadata": {
      "needs_background": "light"
     },
     "output_type": "display_data"
    }
   ],
   "source": [
    "Y_model = np.dot(X_train , final_w)\n",
    "\n",
    "X_train_sec = X_train[:,0]\n",
    "print(X_train_sec)\n",
    "plt.scatter(X_train_sec, Y_train,color='g')\n",
    "plt.plot(X_train_sec, Y_model,color='k')"
   ]
  },
  {
   "cell_type": "markdown",
   "id": "845cff23",
   "metadata": {},
   "source": [
    "##alpha = 0.001"
   ]
  },
  {
   "cell_type": "code",
   "execution_count": 73,
   "id": "51c3b435",
   "metadata": {},
   "outputs": [
    {
     "name": "stdout",
     "output_type": "stream",
     "text": [
      "[-0.67504041  0.36864846 -0.14789673  0.40394395  0.29197362 -0.83816555\n",
      " -0.43965765  0.01118258 -0.91999857 -0.23752373 -0.51744435 -0.39161916\n",
      "  0.32666457 -0.46902353 -0.31301638 -0.59476007  0.64935207  0.72986599\n",
      " -0.95099594  0.44858126 -0.63326479 -0.27824516  0.5202286  -0.1160822\n",
      "  0.17097678  0.85135744 -0.55143476  0.92359719  0.5693768  -0.79884577\n",
      " -0.99478723  0.24526385]\n"
     ]
    },
    {
     "data": {
      "text/plain": [
       "[<matplotlib.lines.Line2D at 0x237dfeb4b50>]"
      ]
     },
     "execution_count": 73,
     "metadata": {},
     "output_type": "execute_result"
    },
    {
     "data": {
      "image/png": "[encoded data removed]",
      "text/plain": [
       "<Figure size 432x288 with 1 Axes>"
      ]
     },
     "metadata": {
      "needs_background": "light"
     },
     "output_type": "display_data"
    }
   ],
   "source": [
    "Y_model = np.dot(X_train , final_w_alpha_1)\n",
    "\n",
    "X_train_sec = X_train[:,0]\n",
    "print(X_train_sec)\n",
    "plt.scatter(X_train_sec, Y_train,color='g')\n",
    "plt.plot(X_train_sec, Y_model,color='k')"
   ]
  },
  {
   "cell_type": "code",
   "execution_count": 74,
   "id": "5c9c8162",
   "metadata": {},
   "outputs": [
    {
     "data": {
      "text/plain": [
       "0.7465436219668953"
      ]
     },
     "execution_count": 74,
     "metadata": {},
     "output_type": "execute_result"
    }
   ],
   "source": [
    "final_train_cost = calculate_cost_func(X_train , Y_train , final_w)\n",
    "final_train_cost"
   ]
  },
  {
   "cell_type": "code",
   "execution_count": 75,
   "id": "40056fd3",
   "metadata": {},
   "outputs": [
    {
     "data": {
      "text/plain": [
       "0.6853751594616078"
      ]
     },
     "execution_count": 75,
     "metadata": {},
     "output_type": "execute_result"
    }
   ],
   "source": [
    "Y_model_test = np.dot(X_test , final_w)\n",
    "final_test_cost = calculate_cost_func(X_test , Y_test , final_w)\n",
    "final_test_cost"
   ]
  },
  {
   "cell_type": "markdown",
   "id": "1bd8b8dc",
   "metadata": {},
   "source": [
    "q2_part_C"
   ]
  },
  {
   "cell_type": "code",
   "execution_count": 76,
   "id": "65cb5b10",
   "metadata": {},
   "outputs": [],
   "source": [
    "def cal_normal_Equation(X, Y):\n",
    "    w = np.dot(np.linalg.inv(np.dot(X.T, X)), np.dot(X.T, Y))\n",
    "    return w"
   ]
  },
  {
   "cell_type": "code",
   "execution_count": 79,
   "id": "91a523b0",
   "metadata": {},
   "outputs": [
    {
     "name": "stdout",
     "output_type": "stream",
     "text": [
      "Wall time: 0 ns\n"
     ]
    }
   ],
   "source": [
    "final_normal_w = cal_normal_Equation(X_train, Y_train)"
   ]
  },
  {
   "cell_type": "code",
   "execution_count": 83,
   "id": "5a660836",
   "metadata": {},
   "outputs": [
    {
     "name": "stdout",
     "output_type": "stream",
     "text": [
      "Time elapsed (hh:mm:ss.ms) 0:00:00.000959\n",
      "[-0.67504041  0.36864846 -0.14789673  0.40394395  0.29197362 -0.83816555\n",
      " -0.43965765  0.01118258 -0.91999857 -0.23752373 -0.51744435 -0.39161916\n",
      "  0.32666457 -0.46902353 -0.31301638 -0.59476007  0.64935207  0.72986599\n",
      " -0.95099594  0.44858126 -0.63326479 -0.27824516  0.5202286  -0.1160822\n",
      "  0.17097678  0.85135744 -0.55143476  0.92359719  0.5693768  -0.79884577\n",
      " -0.99478723  0.24526385]\n"
     ]
    },
    {
     "data": {
      "text/plain": [
       "[<matplotlib.lines.Line2D at 0x237df8d47c0>]"
      ]
     },
     "execution_count": 83,
     "metadata": {},
     "output_type": "execute_result"
    },
    {
     "data": {
      "image/png": "[encoded data removed]",
      "text/plain": [
       "<Figure size 432x288 with 1 Axes>"
      ]
     },
     "metadata": {
      "needs_background": "light"
     },
     "output_type": "display_data"
    }
   ],
   "source": [
    "from datetime import datetime \n",
    "start_time = datetime.now() \n",
    "final_normal_w = cal_normal_Equation(X_train, Y_train)\n",
    "Y_model_normal = np.dot(X_train , final_normal_w)\n",
    "\n",
    "print('Time elapsed (hh:mm:ss.ms) {}'.format(datetime.now() - start_time))\n",
    "\n",
    "X_train_sec = X_train[:,0]\n",
    "print(X_train_sec)\n",
    "plt.scatter(X_train_sec, Y_train,color='g')\n",
    "plt.plot(X_train_sec, Y_model_normal,color='k')"
   ]
  },
  {
   "cell_type": "code",
   "execution_count": 29,
   "id": "22c56292",
   "metadata": {},
   "outputs": [
    {
     "data": {
      "text/plain": [
       "0.746543621966895"
      ]
     },
     "execution_count": 29,
     "metadata": {},
     "output_type": "execute_result"
    }
   ],
   "source": [
    "final_train_cost_normal = calculate_cost_func(X_train , Y_train , final_normal_w)\n",
    "final_train_cost_normal"
   ]
  },
  {
   "cell_type": "code",
   "execution_count": 30,
   "id": "5732c332",
   "metadata": {},
   "outputs": [
    {
     "data": {
      "text/plain": [
       "0.685375159461605"
      ]
     },
     "execution_count": 30,
     "metadata": {},
     "output_type": "execute_result"
    }
   ],
   "source": [
    "Y_model_test = np.dot(X_test , final_normal_w)\n",
    "final_test_cost_normal = calculate_cost_func(X_test , Y_test , final_normal_w)\n",
    "final_test_cost_normal"
   ]
  },
  {
   "cell_type": "markdown",
   "id": "1bbc3049",
   "metadata": {},
   "source": [
    "q1_part_D"
   ]
  },
  {
   "cell_type": "code",
   "execution_count": 31,
   "id": "7c4a2035",
   "metadata": {},
   "outputs": [
    {
     "name": "stdout",
     "output_type": "stream",
     "text": [
      "[[-6.75040407e-01  4.55679551e-01 -3.07602110e-01  2.07643853e-01\n",
      "  -1.40167991e-01  1.00000000e+00]\n",
      " [ 3.68648464e-01  1.35901690e-01  5.00999493e-02  1.84692693e-02\n",
      "   6.80866778e-03  1.00000000e+00]\n",
      " [-1.47896730e-01  2.18734427e-02 -3.23501066e-03  4.78447498e-04\n",
      "  -7.07608204e-05  1.00000000e+00]\n",
      " [ 4.03943945e-01  1.63170711e-01  6.59118206e-02  2.66246808e-02\n",
      "   1.07548786e-02  1.00000000e+00]\n",
      " [ 2.91973619e-01  8.52485942e-02  2.48903406e-02  7.26732281e-03\n",
      "   2.12186654e-03  1.00000000e+00]\n",
      " [-8.38165551e-01  7.02521491e-01 -5.88829312e-01  4.93536445e-01\n",
      "  -4.13665246e-01  1.00000000e+00]\n",
      " [-4.39657655e-01  1.93298854e-01 -8.49853207e-02  3.73644468e-02\n",
      "  -1.64275651e-02  1.00000000e+00]\n",
      " [ 1.11825830e-02  1.25050163e-04  1.39838382e-06  1.56375432e-08\n",
      "   1.74868124e-10  1.00000000e+00]\n",
      " [-9.19998570e-01  8.46397369e-01 -7.78684369e-01  7.16388506e-01\n",
      "  -6.59076401e-01  1.00000000e+00]\n",
      " [-2.37523731e-01  5.64175228e-02 -1.34005005e-02  3.18293688e-03\n",
      "  -7.56023043e-04  1.00000000e+00]\n",
      " [-5.17444347e-01  2.67748652e-01 -1.38545027e-01  7.16893408e-02\n",
      "  -3.70952441e-02  1.00000000e+00]\n",
      " [-3.91619156e-01  1.53365563e-01 -6.00608925e-02  2.35209960e-02\n",
      "  -9.21127261e-03  1.00000000e+00]\n",
      " [ 3.26664566e-01  1.06709739e-01  3.48582905e-02  1.13869683e-02\n",
      "   3.71971907e-03  1.00000000e+00]\n",
      " [-4.69023532e-01  2.19983074e-01 -1.03177238e-01  4.83925527e-02\n",
      "  -2.26972460e-02  1.00000000e+00]\n",
      " [-3.13016377e-01  9.79792523e-02 -3.06691106e-02  9.59993388e-03\n",
      "  -3.00493652e-03  1.00000000e+00]\n",
      " [-5.94760069e-01  3.53739540e-01 -2.10390153e-01  1.25131662e-01\n",
      "  -7.44233159e-02  1.00000000e+00]\n",
      " [ 6.49352071e-01  4.21658112e-01  2.73804568e-01  1.77795564e-01\n",
      "   1.15451917e-01  1.00000000e+00]\n",
      " [ 7.29865992e-01  5.32704366e-01  3.88802801e-01  2.83773942e-01\n",
      "   2.07116950e-01  1.00000000e+00]\n",
      " [-9.50995944e-01  9.04393286e-01 -8.60074346e-01  8.17927215e-01\n",
      "  -7.77845464e-01  1.00000000e+00]\n",
      " [ 4.48581262e-01  2.01225149e-01  9.02658311e-02  4.04915604e-02\n",
      "   1.81637553e-02  1.00000000e+00]\n",
      " [-6.33264791e-01  4.01024296e-01 -2.53954567e-01  1.60820486e-01\n",
      "  -1.01841951e-01  1.00000000e+00]\n",
      " [-2.78245163e-01  7.74203707e-02 -2.15418437e-02  5.99391380e-03\n",
      "  -1.66777752e-03  1.00000000e+00]\n",
      " [ 5.20228603e-01  2.70637799e-01  1.40793524e-01  7.32448185e-02\n",
      "   3.81040496e-02  1.00000000e+00]\n",
      " [-1.16082198e-01  1.34750767e-02 -1.56421652e-03  1.81577692e-04\n",
      "  -2.10779376e-05  1.00000000e+00]\n",
      " [ 1.70976781e-01  2.92330596e-02  4.99817444e-03  8.54571776e-04\n",
      "   1.46111931e-04  1.00000000e+00]\n",
      " [ 8.51357444e-01  7.24809497e-01  6.17071961e-01  5.25348808e-01\n",
      "   4.47259618e-01  1.00000000e+00]\n",
      " [-5.51434756e-01  3.04080290e-01 -1.67680441e-01  9.24648228e-02\n",
      "  -5.09883170e-02  1.00000000e+00]\n",
      " [ 9.23597192e-01  8.53031773e-01  7.87857750e-01  7.27663206e-01\n",
      "   6.72067694e-01  1.00000000e+00]\n",
      " [ 5.69376804e-01  3.24189945e-01  1.84586235e-01  1.05099120e-01\n",
      "   5.98410013e-02  1.00000000e+00]\n",
      " [-7.98845768e-01  6.38154561e-01 -5.09787070e-01  4.07241244e-01\n",
      "  -3.25322944e-01  1.00000000e+00]\n",
      " [-9.94787225e-01  9.89601623e-01 -9.84443052e-01  9.79311372e-01\n",
      "  -9.74206442e-01  1.00000000e+00]\n",
      " [ 2.45263845e-01  6.01543537e-02  1.47536881e-02  3.61854626e-03\n",
      "   8.87498570e-04  1.00000000e+00]]\n"
     ]
    }
   ],
   "source": [
    "X_train_t5 = train.drop(columns=['Y']).to_numpy()\n",
    "X_bias = np.ones((X_train.shape[0],1))\n",
    "X1 = X_train_t5 ** 2\n",
    "X2 = X_train_t5 ** 3\n",
    "X3 = X_train_t5 ** 4\n",
    "X4 = X_train_t5 ** 5\n",
    "\n",
    "X_train_t5 = np.hstack((X_train_t5,X1))\n",
    "X_train_t5 = np.column_stack((X_train_t5,X2))\n",
    "X_train_t5 = np.column_stack((X_train_t5,X3))\n",
    "X_train_t5 = np.column_stack((X_train_t5,X4))\n",
    "X_train_t5 = np.column_stack((X_train_t5,X_bias))\n",
    "print(X_train_t5)"
   ]
  },
  {
   "cell_type": "code",
   "execution_count": 32,
   "id": "fcf76743",
   "metadata": {},
   "outputs": [
    {
     "name": "stdout",
     "output_type": "stream",
     "text": [
      "[[ 4.90432821e-01  2.40524352e-01  1.17961036e-01  5.78519639e-02\n",
      "   2.83725018e-02  1.00000000e+00]\n",
      " [-7.13459670e-02  5.09024701e-03 -3.63168595e-04  2.59106146e-05\n",
      "  -1.84861785e-06  1.00000000e+00]\n",
      " [ 7.61290325e-01  5.79562959e-01  4.41215673e-01  3.35893223e-01\n",
      "   2.55712261e-01  1.00000000e+00]\n",
      " [ 6.83505550e-01  4.67179837e-01  3.19320011e-01  2.18257000e-01\n",
      "   1.49179871e-01  1.00000000e+00]\n",
      " [ 8.83670177e-01  7.80872982e-01  6.90034166e-01  6.09762614e-01\n",
      "   5.38829037e-01  1.00000000e+00]\n",
      " [-1.89990693e-01  3.60964634e-02 -6.85799210e-03  1.30295467e-03\n",
      "  -2.47549261e-04  1.00000000e+00]\n",
      " [-8.76220843e-01  7.67762966e-01 -6.72729913e-01  5.89459972e-01\n",
      "  -5.16497113e-01  1.00000000e+00]\n",
      " [ 2.01229335e-01  4.04932453e-02  8.14842882e-03  1.63970291e-03\n",
      "   3.29956327e-04  1.00000000e+00]\n",
      " [-7.15680491e-01  5.12198565e-01 -3.66570521e-01  2.62347370e-01\n",
      "  -1.87756895e-01  1.00000000e+00]\n",
      " [-7.57671747e-01  5.74066476e-01 -4.34953950e-01  3.29552319e-01\n",
      "  -2.49692481e-01  1.00000000e+00]]\n"
     ]
    }
   ],
   "source": [
    "X_test_t5 = test.drop(columns=['Y']).to_numpy()\n",
    "X_bias = np.ones((X_test_t5.shape[0],1))\n",
    "X1 = X_test_t5 ** 2\n",
    "X2 = X_test_t5 ** 3\n",
    "X3 = X_test_t5 ** 4\n",
    "X4 = X_test_t5 ** 5\n",
    "\n",
    "X_test_t5 = np.hstack((X_test_t5,X1))\n",
    "X_test_t5 = np.column_stack((X_test_t5,X2))\n",
    "X_test_t5 = np.column_stack((X_test_t5,X3))\n",
    "X_test_t5 = np.column_stack((X_test_t5,X4))\n",
    "X_test_t5 = np.column_stack((X_test_t5,X_bias))\n",
    "print(X_test_t5)"
   ]
  },
  {
   "cell_type": "code",
   "execution_count": 33,
   "id": "da2aaa9e",
   "metadata": {},
   "outputs": [
    {
     "name": "stdout",
     "output_type": "stream",
     "text": [
      "0.042057467833225365\n",
      "0.04643669744813571\n"
     ]
    }
   ],
   "source": [
    "final_normal_w_t5 = cal_normal_Equation(X_train_t5, Y_train)\n",
    "\n",
    "final_train_cost_normal_t5 = calculate_cost_func(X_train_t5 , Y_train , final_normal_w_t5)\n",
    "print(final_train_cost_normal_t5)\n",
    "\n",
    "Y_model_test_t5 = np.dot(X_test_t5 , final_normal_w_t5)\n",
    "final_test_cost_normal_t5 = calculate_cost_func(X_test_t5 , Y_test , final_normal_w_t5)\n",
    "print(final_test_cost_normal_t5)"
   ]
  },
  {
   "cell_type": "code",
   "execution_count": 34,
   "id": "08d83a93",
   "metadata": {},
   "outputs": [
    {
     "name": "stdout",
     "output_type": "stream",
     "text": [
      "(32, 8)\n"
     ]
    },
    {
     "data": {
      "text/plain": [
       "[<matplotlib.lines.Line2D at 0x1c5ac733340>]"
      ]
     },
     "execution_count": 34,
     "metadata": {},
     "output_type": "execute_result"
    },
    {
     "data": {
      "image/png": "[encoded data removed]",
      "text/plain": [
       "<Figure size 432x288 with 1 Axes>"
      ]
     },
     "metadata": {
      "needs_background": "light"
     },
     "output_type": "display_data"
    }
   ],
   "source": [
    "Y_model_normal = np.dot(X_train_t5 , final_normal_w_t5)\n",
    "\n",
    "final_df_t5 = np.column_stack((X_train_t5,Y_model_normal))\n",
    "final_df_t5 = np.column_stack((final_df_t5,Y_train))\n",
    "\n",
    "final_df_t5 = final_df_t5[final_df_t5[:,0].astype(float).argsort()]\n",
    "\n",
    "print(final_df_t5.shape)\n",
    "\n",
    "X_train_sec= final_df_t5[:,0]\n",
    "Y_model = final_df_t5[:,6]\n",
    "\n",
    "y_train= final_df_t5[:,7]\n",
    "\n",
    "\n",
    "\n",
    "plt.scatter(X_train_sec, y_train,color='g')\n",
    "plt.plot(X_train_sec, Y_model,color='k')"
   ]
  },
  {
   "cell_type": "code",
   "execution_count": 35,
   "id": "b7613a18",
   "metadata": {},
   "outputs": [
    {
     "name": "stdout",
     "output_type": "stream",
     "text": [
      "[[-6.75040407e-01  4.55679551e-01 -3.07602110e-01  2.07643853e-01\n",
      "  -1.40167991e-01  9.46190578e-02 -6.38716873e-02  1.00000000e+00]\n",
      " [ 3.68648464e-01  1.35901690e-01  5.00999493e-02  1.84692693e-02\n",
      "   6.80866778e-03  2.51000492e-03  9.25309457e-04  1.00000000e+00]\n",
      " [-1.47896730e-01  2.18734427e-02 -3.23501066e-03  4.78447498e-04\n",
      "  -7.07608204e-05  1.04652939e-05 -1.54778275e-06  1.00000000e+00]\n",
      " [ 4.03943945e-01  1.63170711e-01  6.59118206e-02  2.66246808e-02\n",
      "   1.07548786e-02  4.34436809e-03  1.75488119e-03  1.00000000e+00]\n",
      " [ 2.91973619e-01  8.52485942e-02  2.48903406e-02  7.26732281e-03\n",
      "   2.12186654e-03  6.19529053e-04  1.80886140e-04  1.00000000e+00]\n",
      " [-8.38165551e-01  7.02521491e-01 -5.88829312e-01  4.93536445e-01\n",
      "  -4.13665246e-01  3.46719959e-01 -2.90608726e-01  1.00000000e+00]\n",
      " [-4.39657655e-01  1.93298854e-01 -8.49853207e-02  3.73644468e-02\n",
      "  -1.64275651e-02  7.22250473e-03 -3.17542949e-03  1.00000000e+00]\n",
      " [ 1.11825830e-02  1.25050163e-04  1.39838382e-06  1.56375432e-08\n",
      "   1.74868124e-10  1.95547731e-12  2.18672874e-14  1.00000000e+00]\n",
      " [-9.19998570e-01  8.46397369e-01 -7.78684369e-01  7.16388506e-01\n",
      "  -6.59076401e-01  6.06349346e-01 -5.57840532e-01  1.00000000e+00]\n",
      " [-2.37523731e-01  5.64175228e-02 -1.34005005e-02  3.18293688e-03\n",
      "  -7.56023043e-04  1.79573414e-04 -4.26529472e-05  1.00000000e+00]\n",
      " [-5.17444347e-01  2.67748652e-01 -1.38545027e-01  7.16893408e-02\n",
      "  -3.70952441e-02  1.91947244e-02 -9.93220162e-03  1.00000000e+00]\n",
      " [-3.91619156e-01  1.53365563e-01 -6.00608925e-02  2.35209960e-02\n",
      "  -9.21127261e-03  3.60731081e-03 -1.41269201e-03  1.00000000e+00]\n",
      " [ 3.26664566e-01  1.06709739e-01  3.48582905e-02  1.13869683e-02\n",
      "   3.71971907e-03  1.21510041e-03  3.96930250e-04  1.00000000e+00]\n",
      " [-4.69023532e-01  2.19983074e-01 -1.03177238e-01  4.83925527e-02\n",
      "  -2.26972460e-02  1.06455425e-02 -4.99300993e-03  1.00000000e+00]\n",
      " [-3.13016377e-01  9.79792523e-02 -3.06691106e-02  9.59993388e-03\n",
      "  -3.00493652e-03  9.40594343e-04 -2.94421433e-04  1.00000000e+00]\n",
      " [-5.94760069e-01  3.53739540e-01 -2.10390153e-01  1.25131662e-01\n",
      "  -7.44233159e-02  4.42640165e-02 -2.63264695e-02  1.00000000e+00]\n",
      " [ 6.49352071e-01  4.21658112e-01  2.73804568e-01  1.77795564e-01\n",
      "   1.15451917e-01  7.49689417e-02  4.86812375e-02  1.00000000e+00]\n",
      " [ 7.29865992e-01  5.32704366e-01  3.88802801e-01  2.83773942e-01\n",
      "   2.07116950e-01  1.51167618e-01  1.10332103e-01  1.00000000e+00]\n",
      " [-9.50995944e-01  9.04393286e-01 -8.60074346e-01  8.17927215e-01\n",
      "  -7.77845464e-01  7.39727881e-01 -7.03478215e-01  1.00000000e+00]\n",
      " [ 4.48581262e-01  2.01225149e-01  9.02658311e-02  4.04915604e-02\n",
      "   1.81637553e-02  8.14792027e-03  3.65500436e-03  1.00000000e+00]\n",
      " [-6.33264791e-01  4.01024296e-01 -2.53954567e-01  1.60820486e-01\n",
      "  -1.01841951e-01  6.44929219e-02 -4.08410967e-02  1.00000000e+00]\n",
      " [-2.78245163e-01  7.74203707e-02 -2.15418437e-02  5.99391380e-03\n",
      "  -1.66777752e-03  4.64051029e-04 -1.29119954e-04  1.00000000e+00]\n",
      " [ 5.20228603e-01  2.70637799e-01  1.40793524e-01  7.32448185e-02\n",
      "   3.81040496e-02  1.98228165e-02  1.03123961e-02  1.00000000e+00]\n",
      " [-1.16082198e-01  1.34750767e-02 -1.56421652e-03  1.81577692e-04\n",
      "  -2.10779376e-05  2.44677332e-06 -2.84026825e-07  1.00000000e+00]\n",
      " [ 1.70976781e-01  2.92330596e-02  4.99817444e-03  8.54571776e-04\n",
      "   1.46111931e-04  2.49817477e-05  4.27129880e-06  1.00000000e+00]\n",
      " [ 8.51357444e-01  7.24809497e-01  6.17071961e-01  5.25348808e-01\n",
      "   4.47259618e-01  3.80777805e-01  3.24178019e-01  1.00000000e+00]\n",
      " [-5.51434756e-01  3.04080290e-01 -1.67680441e-01  9.24648228e-02\n",
      "  -5.09883170e-02  2.81167302e-02 -1.55045422e-02  1.00000000e+00]\n",
      " [ 9.23597192e-01  8.53031773e-01  7.87857750e-01  7.27663206e-01\n",
      "   6.72067694e-01  6.20719835e-01  5.73295096e-01  1.00000000e+00]\n",
      " [ 5.69376804e-01  3.24189945e-01  1.84586235e-01  1.05099120e-01\n",
      "   5.98410013e-02  3.40720781e-02  1.93998509e-02  1.00000000e+00]\n",
      " [-7.98845768e-01  6.38154561e-01 -5.09787070e-01  4.07241244e-01\n",
      "  -3.25322944e-01  2.59882857e-01 -2.07606321e-01  1.00000000e+00]\n",
      " [-9.94787225e-01  9.89601623e-01 -9.84443052e-01  9.79311372e-01\n",
      "  -9.74206442e-01  9.69128123e-01 -9.64076277e-01  1.00000000e+00]\n",
      " [ 2.45263845e-01  6.01543537e-02  1.47536881e-02  3.61854626e-03\n",
      "   8.87498570e-04  2.17671312e-04  5.33869029e-05  1.00000000e+00]]\n"
     ]
    }
   ],
   "source": [
    "X_train_t7 = train.drop(columns=['Y']).to_numpy()\n",
    "X_bias = np.ones((X_train.shape[0],1))\n",
    "X1 = X_train_t7 ** 2\n",
    "X2 = X_train_t7 ** 3\n",
    "X3 = X_train_t7 ** 4\n",
    "X4 = X_train_t7 ** 5\n",
    "X5 = X_train_t7 ** 6\n",
    "X6 = X_train_t7 ** 7\n",
    "\n",
    "X_train_t7 = np.hstack((X_train_t7,X1))\n",
    "X_train_t7 = np.column_stack((X_train_t7,X2))\n",
    "X_train_t7 = np.column_stack((X_train_t7,X3))\n",
    "X_train_t7 = np.column_stack((X_train_t7,X4))\n",
    "X_train_t7 = np.column_stack((X_train_t7,X5))\n",
    "X_train_t7 = np.column_stack((X_train_t7,X6))\n",
    "X_train_t7 = np.column_stack((X_train_t7,X_bias))\n",
    "print(X_train_t7)"
   ]
  },
  {
   "cell_type": "code",
   "execution_count": 36,
   "id": "90eabb5d",
   "metadata": {},
   "outputs": [
    {
     "name": "stdout",
     "output_type": "stream",
     "text": [
      "[[ 4.90432821e-01  2.40524352e-01  1.17961036e-01  5.78519639e-02\n",
      "   2.83725018e-02  1.39148061e-02  6.82427762e-03  1.00000000e+00]\n",
      " [-7.13459670e-02  5.09024701e-03 -3.63168595e-04  2.59106146e-05\n",
      "  -1.84861785e-06  1.31891428e-07 -9.40992150e-09  1.00000000e+00]\n",
      " [ 7.61290325e-01  5.79562959e-01  4.41215673e-01  3.35893223e-01\n",
      "   2.55712261e-01  1.94671270e-01  1.48201355e-01  1.00000000e+00]\n",
      " [ 6.83505550e-01  4.67179837e-01  3.19320011e-01  2.18257000e-01\n",
      "   1.49179871e-01  1.01965270e-01  6.96938277e-02  1.00000000e+00]\n",
      " [ 8.83670177e-01  7.80872982e-01  6.90034166e-01  6.09762614e-01\n",
      "   5.38829037e-01  4.76147150e-01  4.20757037e-01  1.00000000e+00]\n",
      " [-1.89990693e-01  3.60964634e-02 -6.85799210e-03  1.30295467e-03\n",
      "  -2.47549261e-04  4.70320557e-05 -8.93565285e-06  1.00000000e+00]\n",
      " [-8.76220843e-01  7.67762966e-01 -6.72729913e-01  5.89459972e-01\n",
      "  -5.16497113e-01  4.52565536e-01 -3.96547355e-01  1.00000000e+00]\n",
      " [ 2.01229335e-01  4.04932453e-02  8.14842882e-03  1.63970291e-03\n",
      "   3.29956327e-04  6.63968922e-05  1.33610025e-05  1.00000000e+00]\n",
      " [-7.15680491e-01  5.12198565e-01 -3.66570521e-01  2.62347370e-01\n",
      "  -1.87756895e-01  1.34373947e-01 -9.61688121e-02  1.00000000e+00]\n",
      " [-7.57671747e-01  5.74066476e-01 -4.34953950e-01  3.29552319e-01\n",
      "  -2.49692481e-01  1.89184939e-01 -1.43340083e-01  1.00000000e+00]]\n"
     ]
    }
   ],
   "source": [
    "X_test_t7 = test.drop(columns=['Y']).to_numpy()\n",
    "X_bias = np.ones((X_test_t7.shape[0],1))\n",
    "X1 = X_test_t7 ** 2\n",
    "X2 = X_test_t7 ** 3\n",
    "X3 = X_test_t7 ** 4\n",
    "X4 = X_test_t7 ** 5\n",
    "X5 = X_test_t7 ** 6\n",
    "X6 = X_test_t7 ** 7\n",
    "\n",
    "X_test_t7 = np.hstack((X_test_t7,X1))\n",
    "X_test_t7 = np.column_stack((X_test_t7,X2))\n",
    "X_test_t7 = np.column_stack((X_test_t7,X3))\n",
    "X_test_t7 = np.column_stack((X_test_t7,X4))\n",
    "X_test_t7 = np.column_stack((X_test_t7,X5))\n",
    "X_test_t7 = np.column_stack((X_test_t7,X6))\n",
    "X_test_t7 = np.column_stack((X_test_t7,X_bias))\n",
    "print(X_test_t7)"
   ]
  },
  {
   "cell_type": "code",
   "execution_count": 37,
   "id": "722a3623",
   "metadata": {},
   "outputs": [
    {
     "name": "stdout",
     "output_type": "stream",
     "text": [
      "0.04048329892999203\n",
      "0.05278765617934552\n"
     ]
    }
   ],
   "source": [
    "final_normal_w_t7 = cal_normal_Equation(X_train_t7, Y_train)\n",
    "\n",
    "final_train_cost_normal_t7 = calculate_cost_func(X_train_t7 , Y_train , final_normal_w_t7)\n",
    "print(final_train_cost_normal_t7)\n",
    "\n",
    "Y_model_test_t7 = np.dot(X_test_t7 , final_normal_w_t7)\n",
    "final_test_cost_normal_t7 = calculate_cost_func(X_test_t7 , Y_test , final_normal_w_t7)\n",
    "print(final_test_cost_normal_t7)"
   ]
  },
  {
   "cell_type": "code",
   "execution_count": 38,
   "id": "59600bb7",
   "metadata": {},
   "outputs": [
    {
     "data": {
      "text/plain": [
       "[<matplotlib.lines.Line2D at 0x1c5ac7937c0>]"
      ]
     },
     "execution_count": 38,
     "metadata": {},
     "output_type": "execute_result"
    },
    {
     "data": {
      "image/png": "[encoded data removed]",
      "text/plain": [
       "<Figure size 432x288 with 1 Axes>"
      ]
     },
     "metadata": {
      "needs_background": "light"
     },
     "output_type": "display_data"
    }
   ],
   "source": [
    "Y_model_normal = np.dot(X_train_t7 , final_normal_w_t7)\n",
    "\n",
    "final_df_t7 = np.column_stack((X_train_t7,Y_model_normal))\n",
    "final_df_t7 = np.column_stack((final_df_t7,Y_train))\n",
    "\n",
    "final_df_t7 = final_df_t7[final_df_t7[:,0].astype(float).argsort()]\n",
    "\n",
    "X_train_sec= final_df_t7[:,0]\n",
    "Y_model = final_df_t7[:,8]\n",
    "\n",
    "y_train= final_df_t7[:,9]\n",
    "\n",
    "\n",
    "\n",
    "plt.scatter(X_train_sec, y_train,color='g')\n",
    "plt.plot(X_train_sec, Y_model,color='k')"
   ]
  },
  {
   "cell_type": "code",
   "execution_count": 39,
   "id": "39347364",
   "metadata": {},
   "outputs": [
    {
     "name": "stdout",
     "output_type": "stream",
     "text": [
      "[[-6.75040407e-01  4.55679551e-01 -3.07602110e-01  2.07643853e-01\n",
      "  -1.40167991e-01  9.46190578e-02 -6.38716873e-02  4.31159698e-02\n",
      "  -2.91050218e-02  1.00000000e+00]\n",
      " [ 3.68648464e-01  1.35901690e-01  5.00999493e-02  1.84692693e-02\n",
      "   6.80866778e-03  2.51000492e-03  9.25309457e-04  3.41113910e-04\n",
      "   1.25751119e-04  1.00000000e+00]\n",
      " [-1.47896730e-01  2.18734427e-02 -3.23501066e-03  4.78447498e-04\n",
      "  -7.07608204e-05  1.04652939e-05 -1.54778275e-06  2.28912008e-07\n",
      "  -3.38553374e-08  1.00000000e+00]\n",
      " [ 4.03943945e-01  1.63170711e-01  6.59118206e-02  2.66246808e-02\n",
      "   1.07548786e-02  4.34436809e-03  1.75488119e-03  7.08873629e-04\n",
      "   2.86345210e-04  1.00000000e+00]\n",
      " [ 2.91973619e-01  8.52485942e-02  2.48903406e-02  7.26732281e-03\n",
      "   2.12186654e-03  6.19529053e-04  1.80886140e-04  5.28139808e-05\n",
      "   1.54202891e-05  1.00000000e+00]\n",
      " [-8.38165551e-01  7.02521491e-01 -5.88829312e-01  4.93536445e-01\n",
      "  -4.13665246e-01  3.46719959e-01 -2.90608726e-01  2.43578223e-01\n",
      "  -2.04158875e-01  1.00000000e+00]\n",
      " [-4.39657655e-01  1.93298854e-01 -8.49853207e-02  3.73644468e-02\n",
      "  -1.64275651e-02  7.22250473e-03 -3.17542949e-03  1.39610188e-03\n",
      "  -6.13806881e-04  1.00000000e+00]\n",
      " [ 1.11825830e-02  1.25050163e-04  1.39838382e-06  1.56375432e-08\n",
      "   1.74868124e-10  1.95547731e-12  2.18672874e-14  2.44532756e-16\n",
      "   2.73450784e-18  1.00000000e+00]\n",
      " [-9.19998570e-01  8.46397369e-01 -7.78684369e-01  7.16388506e-01\n",
      "  -6.59076401e-01  6.06349346e-01 -5.57840532e-01  5.13212491e-01\n",
      "  -4.72154758e-01  1.00000000e+00]\n",
      " [-2.37523731e-01  5.64175228e-02 -1.34005005e-02  3.18293688e-03\n",
      "  -7.56023043e-04  1.79573414e-04 -4.26529472e-05  1.01310872e-05\n",
      "  -2.40637362e-06  1.00000000e+00]\n",
      " [-5.17444347e-01  2.67748652e-01 -1.38545027e-01  7.16893408e-02\n",
      "  -3.70952441e-02  1.91947244e-02 -9.93220162e-03  5.13936158e-03\n",
      "  -2.65933360e-03  1.00000000e+00]\n",
      " [-3.91619156e-01  1.53365563e-01 -6.00608925e-02  2.35209960e-02\n",
      "  -9.21127261e-03  3.60731081e-03 -1.41269201e-03  5.53237254e-04\n",
      "  -2.16658306e-04  1.00000000e+00]\n",
      " [ 3.26664566e-01  1.06709739e-01  3.48582905e-02  1.13869683e-02\n",
      "   3.71971907e-03  1.21510041e-03  3.96930250e-04  1.29663048e-04\n",
      "   4.23563232e-05  1.00000000e+00]\n",
      " [-4.69023532e-01  2.19983074e-01 -1.03177238e-01  4.83925527e-02\n",
      "  -2.26972460e-02  1.06455425e-02 -4.99300993e-03  2.34183915e-03\n",
      "  -1.09837767e-03  1.00000000e+00]\n",
      " [-3.13016377e-01  9.79792523e-02 -3.06691106e-02  9.59993388e-03\n",
      "  -3.00493652e-03  9.40594343e-04 -2.94421433e-04  9.21587304e-05\n",
      "  -2.88471919e-05  1.00000000e+00]\n",
      " [-5.94760069e-01  3.53739540e-01 -2.10390153e-01  1.25131662e-01\n",
      "  -7.44233159e-02  4.42640165e-02 -2.63264695e-02  1.56579328e-02\n",
      "  -9.31271320e-03  1.00000000e+00]\n",
      " [ 6.49352071e-01  4.21658112e-01  2.73804568e-01  1.77795564e-01\n",
      "   1.15451917e-01  7.49689417e-02  4.86812375e-02  3.16112624e-02\n",
      "   2.05268387e-02  1.00000000e+00]\n",
      " [ 7.29865992e-01  5.32704366e-01  3.88802801e-01  2.83773942e-01\n",
      "   2.07116950e-01  1.51167618e-01  1.10332103e-01  8.05276501e-02\n",
      "   5.87743932e-02  1.00000000e+00]\n",
      " [-9.50995944e-01  9.04393286e-01 -8.60074346e-01  8.17927215e-01\n",
      "  -7.77845464e-01  7.39727881e-01 -7.03478215e-01  6.69004929e-01\n",
      "  -6.36220974e-01  1.00000000e+00]\n",
      " [ 4.48581262e-01  2.01225149e-01  9.02658311e-02  4.04915604e-02\n",
      "   1.81637553e-02  8.14792027e-03  3.65500436e-03  1.63956647e-03\n",
      "   7.35478795e-04  1.00000000e+00]\n",
      " [-6.33264791e-01  4.01024296e-01 -2.53954567e-01  1.60820486e-01\n",
      "  -1.01841951e-01  6.44929219e-02 -4.08410967e-02  2.58632286e-02\n",
      "  -1.63782720e-02  1.00000000e+00]\n",
      " [-2.78245163e-01  7.74203707e-02 -2.15418437e-02  5.99391380e-03\n",
      "  -1.66777752e-03  4.64051029e-04 -1.29119954e-04  3.59270027e-05\n",
      "  -9.99651472e-06  1.00000000e+00]\n",
      " [ 5.20228603e-01  2.70637799e-01  1.40793524e-01  7.32448185e-02\n",
      "   3.81040496e-02  1.98228165e-02  1.03123961e-02  5.36480343e-03\n",
      "   2.79092419e-03  1.00000000e+00]\n",
      " [-1.16082198e-01  1.34750767e-02 -1.56421652e-03  1.81577692e-04\n",
      "  -2.10779376e-05  2.44677332e-06 -2.84026825e-07  3.29704582e-08\n",
      "  -3.82728326e-09  1.00000000e+00]\n",
      " [ 1.70976781e-01  2.92330596e-02  4.99817444e-03  8.54571776e-04\n",
      "   1.46111931e-04  2.49817477e-05  4.27129880e-06  7.30292920e-07\n",
      "   1.24863133e-07  1.00000000e+00]\n",
      " [ 8.51357444e-01  7.24809497e-01  6.17071961e-01  5.25348808e-01\n",
      "   4.47259618e-01  3.80777805e-01  3.24178019e-01  2.75991370e-01\n",
      "   2.34967307e-01  1.00000000e+00]\n",
      " [-5.51434756e-01  3.04080290e-01 -1.67680441e-01  9.24648228e-02\n",
      "  -5.09883170e-02  2.81167302e-02 -1.55045422e-02  8.54974346e-03\n",
      "  -4.71462570e-03  1.00000000e+00]\n",
      " [ 9.23597192e-01  8.53031773e-01  7.87857750e-01  7.27663206e-01\n",
      "   6.72067694e-01  6.20719835e-01  5.73295096e-01  5.29493741e-01\n",
      "   4.89038933e-01  1.00000000e+00]\n",
      " [ 5.69376804e-01  3.24189945e-01  1.84586235e-01  1.05099120e-01\n",
      "   5.98410013e-02  3.40720781e-02  1.93998509e-02  1.10458251e-02\n",
      "   6.28923660e-03  1.00000000e+00]\n",
      " [-7.98845768e-01  6.38154561e-01 -5.09787070e-01  4.07241244e-01\n",
      "  -3.25322944e-01  2.59882857e-01 -2.07606321e-01  1.65845431e-01\n",
      "  -1.32484920e-01  1.00000000e+00]\n",
      " [-9.94787225e-01  9.89601623e-01 -9.84443052e-01  9.79311372e-01\n",
      "  -9.74206442e-01  9.69128123e-01 -9.64076277e-01  9.59050764e-01\n",
      "  -9.54051448e-01  1.00000000e+00]\n",
      " [ 2.45263845e-01  6.01543537e-02  1.47536881e-02  3.61854626e-03\n",
      "   8.87498570e-04  2.17671312e-04  5.33869029e-05  1.30938771e-05\n",
      "   3.21145464e-06  1.00000000e+00]]\n"
     ]
    }
   ],
   "source": [
    "X_train_t9 = train.drop(columns=['Y']).to_numpy()\n",
    "X_bias = np.ones((X_train.shape[0],1))\n",
    "X1 = X_train_t9 ** 2\n",
    "X2 = X_train_t9 ** 3\n",
    "X3 = X_train_t9 ** 4\n",
    "X4 = X_train_t9 ** 5\n",
    "X5 = X_train_t9 ** 6\n",
    "X6 = X_train_t9 ** 7\n",
    "X7 = X_train_t9 ** 8\n",
    "X8 = X_train_t9 ** 9\n",
    "\n",
    "X_train_t9 = np.hstack((X_train_t9,X1))\n",
    "X_train_t9 = np.column_stack((X_train_t9,X2))\n",
    "X_train_t9 = np.column_stack((X_train_t9,X3))\n",
    "X_train_t9 = np.column_stack((X_train_t9,X4))\n",
    "X_train_t9 = np.column_stack((X_train_t9,X5))\n",
    "X_train_t9 = np.column_stack((X_train_t9,X6))\n",
    "X_train_t9 = np.column_stack((X_train_t9,X7))\n",
    "X_train_t9 = np.column_stack((X_train_t9,X8))\n",
    "X_train_t9 = np.column_stack((X_train_t9,X_bias))\n",
    "print(X_train_t9)"
   ]
  },
  {
   "cell_type": "code",
   "execution_count": 40,
   "id": "df4598c1",
   "metadata": {},
   "outputs": [
    {
     "name": "stdout",
     "output_type": "stream",
     "text": [
      "[[ 4.90432821e-01  2.40524352e-01  1.17961036e-01  5.78519639e-02\n",
      "   2.83725018e-02  1.39148061e-02  6.82427762e-03  3.34684972e-03\n",
      "   1.64140495e-03  1.00000000e+00]\n",
      " [-7.13459670e-02  5.09024701e-03 -3.63168595e-04  2.59106146e-05\n",
      "  -1.84861785e-06  1.31891428e-07 -9.40992150e-09  6.71359949e-10\n",
      "  -4.78988247e-11  1.00000000e+00]\n",
      " [ 7.61290325e-01  5.79562959e-01  4.41215673e-01  3.35893223e-01\n",
      "   2.55712261e-01  1.94671270e-01  1.48201355e-01  1.12824258e-01\n",
      "   8.58920157e-02  1.00000000e+00]\n",
      " [ 6.83505550e-01  4.67179837e-01  3.19320011e-01  2.18257000e-01\n",
      "   1.49179871e-01  1.01965270e-01  6.96938277e-02  4.76361180e-02\n",
      "   3.25595511e-02  1.00000000e+00]\n",
      " [ 8.83670177e-01  7.80872982e-01  6.90034166e-01  6.09762614e-01\n",
      "   5.38829037e-01  4.76147150e-01  4.20757037e-01  3.71810445e-01\n",
      "   3.28557802e-01  1.00000000e+00]\n",
      " [-1.89990693e-01  3.60964634e-02 -6.85799210e-03  1.30295467e-03\n",
      "  -2.47549261e-04  4.70320557e-05 -8.93565285e-06  1.69769088e-06\n",
      "  -3.22545466e-07  1.00000000e+00]\n",
      " [-8.76220843e-01  7.67762966e-01 -6.72729913e-01  5.89459972e-01\n",
      "  -5.16497113e-01  4.52565536e-01 -3.96547355e-01  3.47463058e-01\n",
      "  -3.04454374e-01  1.00000000e+00]\n",
      " [ 2.01229335e-01  4.04932453e-02  8.14842882e-03  1.63970291e-03\n",
      "   3.29956327e-04  6.63968922e-05  1.33610025e-05  2.68862564e-06\n",
      "   5.41030350e-07  1.00000000e+00]\n",
      " [-7.15680491e-01  5.12198565e-01 -3.66570521e-01  2.62347370e-01\n",
      "  -1.87756895e-01  1.34373947e-01 -9.61688121e-02  6.88261426e-02\n",
      "  -4.92575276e-02  1.00000000e+00]\n",
      " [-7.57671747e-01  5.74066476e-01 -4.34953950e-01  3.29552319e-01\n",
      "  -2.49692481e-01  1.89184939e-01 -1.43340083e-01  1.08604731e-01\n",
      "  -8.22867363e-02  1.00000000e+00]]\n"
     ]
    }
   ],
   "source": [
    "X_test_t9 = test.drop(columns=['Y']).to_numpy()\n",
    "X_bias = np.ones((X_test_t9.shape[0],1))\n",
    "X1 = X_test_t9 ** 2\n",
    "X2 = X_test_t9 ** 3\n",
    "X3 = X_test_t9 ** 4\n",
    "X4 = X_test_t9 ** 5\n",
    "X5 = X_test_t9 ** 6\n",
    "X6 = X_test_t9 ** 7\n",
    "X7 = X_test_t9 ** 8\n",
    "X8 = X_test_t9 ** 9\n",
    "\n",
    "X_test_t9 = np.hstack((X_test_t9,X1))\n",
    "X_test_t9 = np.column_stack((X_test_t9,X2))\n",
    "X_test_t9 = np.column_stack((X_test_t9,X3))\n",
    "X_test_t9 = np.column_stack((X_test_t9,X4))\n",
    "X_test_t9 = np.column_stack((X_test_t9,X5))\n",
    "X_test_t9 = np.column_stack((X_test_t9,X6))\n",
    "X_test_t9 = np.column_stack((X_test_t9,X7))\n",
    "X_test_t9 = np.column_stack((X_test_t9,X8))\n",
    "X_test_t9 = np.column_stack((X_test_t9,X_bias))\n",
    "print(X_test_t9)"
   ]
  },
  {
   "cell_type": "code",
   "execution_count": 41,
   "id": "6b2ccb5f",
   "metadata": {},
   "outputs": [
    {
     "name": "stdout",
     "output_type": "stream",
     "text": [
      "0.0403266335885226\n",
      "0.0517424783567369\n"
     ]
    }
   ],
   "source": [
    "final_normal_w_t9 = cal_normal_Equation(X_train_t9, Y_train)\n",
    "\n",
    "final_train_cost_normal_t9 = calculate_cost_func(X_train_t9 , Y_train , final_normal_w_t9)\n",
    "print(final_train_cost_normal_t9)\n",
    "\n",
    "Y_model_test_t9 = np.dot(X_test_t9 , final_normal_w_t9)\n",
    "final_test_cost_normal_t9 = calculate_cost_func(X_test_t9 , Y_test , final_normal_w_t9)\n",
    "print(final_test_cost_normal_t9)"
   ]
  },
  {
   "cell_type": "code",
   "execution_count": 42,
   "id": "fdc8008d",
   "metadata": {},
   "outputs": [
    {
     "name": "stdout",
     "output_type": "stream",
     "text": [
      "(32, 12)\n"
     ]
    },
    {
     "data": {
      "text/plain": [
       "[<matplotlib.lines.Line2D at 0x1c5ac7f2e80>]"
      ]
     },
     "execution_count": 42,
     "metadata": {},
     "output_type": "execute_result"
    },
    {
     "data": {
      "image/png": "[encoded data removed]",
      "text/plain": [
       "<Figure size 432x288 with 1 Axes>"
      ]
     },
     "metadata": {
      "needs_background": "light"
     },
     "output_type": "display_data"
    }
   ],
   "source": [
    "Y_model_normal = np.dot(X_train_t9 , final_normal_w_t9)\n",
    "\n",
    "final_df_t9 = np.column_stack((X_train_t9,Y_model_normal))\n",
    "final_df_t9 = np.column_stack((final_df_t9,Y_train))\n",
    "\n",
    "final_df_t9 = final_df_t9[final_df_t9[:,0].astype(float).argsort()]\n",
    "\n",
    "print(final_df_t9.shape)\n",
    "\n",
    "X_train_sec= final_df_t9[:,0]\n",
    "Y_model = final_df_t9[:,10]\n",
    "\n",
    "y_train= final_df_t9[:,11]\n",
    "\n",
    "\n",
    "\n",
    "plt.scatter(X_train_sec, y_train,color='g')\n",
    "plt.plot(X_train_sec, Y_model,color='k')"
   ]
  },
  {
   "cell_type": "code",
   "execution_count": 43,
   "id": "752af25a",
   "metadata": {},
   "outputs": [
    {
     "name": "stdout",
     "output_type": "stream",
     "text": [
      "[[-6.75040407e-01  4.55679551e-01 -3.07602110e-01  2.07643853e-01\n",
      "  -1.40167991e-01  9.46190578e-02 -6.38716873e-02  4.31159698e-02\n",
      "  -2.91050218e-02  1.96470658e-02 -1.32625633e-02  1.00000000e+00]\n",
      " [ 3.68648464e-01  1.35901690e-01  5.00999493e-02  1.84692693e-02\n",
      "   6.80866778e-03  2.51000492e-03  9.25309457e-04  3.41113910e-04\n",
      "   1.25751119e-04  4.63579569e-05  1.70897896e-05  1.00000000e+00]\n",
      " [-1.47896730e-01  2.18734427e-02 -3.23501066e-03  4.78447498e-04\n",
      "  -7.07608204e-05  1.04652939e-05 -1.54778275e-06  2.28912008e-07\n",
      "  -3.38553374e-08  5.00709370e-09 -7.40532785e-10  1.00000000e+00]\n",
      " [ 4.03943945e-01  1.63170711e-01  6.59118206e-02  2.66246808e-02\n",
      "   1.07548786e-02  4.34436809e-03  1.75488119e-03  7.08873629e-04\n",
      "   2.86345210e-04  1.15667414e-04  4.67231515e-05  1.00000000e+00]\n",
      " [ 2.91973619e-01  8.52485942e-02  2.48903406e-02  7.26732281e-03\n",
      "   2.12186654e-03  6.19529053e-04  1.80886140e-04  5.28139808e-05\n",
      "   1.54202891e-05  4.50231762e-06  1.31455797e-06  1.00000000e+00]\n",
      " [-8.38165551e-01  7.02521491e-01 -5.88829312e-01  4.93536445e-01\n",
      "  -4.13665246e-01  3.46719959e-01 -2.90608726e-01  2.43578223e-01\n",
      "  -2.04158875e-01  1.71118936e-01 -1.43425997e-01  1.00000000e+00]\n",
      " [-4.39657655e-01  1.93298854e-01 -8.49853207e-02  3.73644468e-02\n",
      "  -1.64275651e-02  7.22250473e-03 -3.17542949e-03  1.39610188e-03\n",
      "  -6.13806881e-04  2.69864894e-04 -1.18648166e-04  1.00000000e+00]\n",
      " [ 1.11825830e-02  1.25050163e-04  1.39838382e-06  1.56375432e-08\n",
      "   1.74868124e-10  1.95547731e-12  2.18672874e-14  2.44532756e-16\n",
      "   2.73450784e-18  3.05788609e-20  3.41950650e-22  1.00000000e+00]\n",
      " [-9.19998570e-01  8.46397369e-01 -7.78684369e-01  7.16388506e-01\n",
      "  -6.59076401e-01  6.06349346e-01 -5.57840532e-01  5.13212491e-01\n",
      "  -4.72154758e-01  4.34381702e-01 -3.99630545e-01  1.00000000e+00]\n",
      " [-2.37523731e-01  5.64175228e-02 -1.34005005e-02  3.18293688e-03\n",
      "  -7.56023043e-04  1.79573414e-04 -4.26529472e-05  1.01310872e-05\n",
      "  -2.40637362e-06  5.71570841e-07 -1.35761639e-07  1.00000000e+00]\n",
      " [-5.17444347e-01  2.67748652e-01 -1.38545027e-01  7.16893408e-02\n",
      "  -3.70952441e-02  1.91947244e-02 -9.93220162e-03  5.13936158e-03\n",
      "  -2.65933360e-03  1.37605714e-03 -7.12032987e-04  1.00000000e+00]\n",
      " [-3.91619156e-01  1.53365563e-01 -6.00608925e-02  2.35209960e-02\n",
      "  -9.21127261e-03  3.60731081e-03 -1.41269201e-03  5.53237254e-04\n",
      "  -2.16658306e-04  8.48475431e-05 -3.32279232e-05  1.00000000e+00]\n",
      " [ 3.26664566e-01  1.06709739e-01  3.48582905e-02  1.13869683e-02\n",
      "   3.71971907e-03  1.21510041e-03  3.96930250e-04  1.29663048e-04\n",
      "   4.23563232e-05  1.38363099e-05  4.51983218e-06  1.00000000e+00]\n",
      " [-4.69023532e-01  2.19983074e-01 -1.03177238e-01  4.83925527e-02\n",
      "  -2.26972460e-02  1.06455425e-02 -4.99300993e-03  2.34183915e-03\n",
      "  -1.09837767e-03  5.15164975e-04 -2.41624496e-04  1.00000000e+00]\n",
      " [-3.13016377e-01  9.79792523e-02 -3.06691106e-02  9.59993388e-03\n",
      "  -3.00493652e-03  9.40594343e-04 -2.94421433e-04  9.21587304e-05\n",
      "  -2.88471919e-05  9.02964350e-06 -2.82642629e-06  1.00000000e+00]\n",
      " [-5.94760069e-01  3.53739540e-01 -2.10390153e-01  1.25131662e-01\n",
      "  -7.44233159e-02  4.42640165e-02 -2.63264695e-02  1.56579328e-02\n",
      "  -9.31271320e-03  5.53882995e-03 -3.29427488e-03  1.00000000e+00]\n",
      " [ 6.49352071e-01  4.21658112e-01  2.73804568e-01  1.77795564e-01\n",
      "   1.15451917e-01  7.49689417e-02  4.86812375e-02  3.16112624e-02\n",
      "   2.05268387e-02  1.33291452e-02  8.65530806e-03  1.00000000e+00]\n",
      " [ 7.29865992e-01  5.32704366e-01  3.88802801e-01  2.83773942e-01\n",
      "   2.07116950e-01  1.51167618e-01  1.10332103e-01  8.05276501e-02\n",
      "   5.87743932e-02  4.28974308e-02  3.13093759e-02  1.00000000e+00]\n",
      " [-9.50995944e-01  9.04393286e-01 -8.60074346e-01  8.17927215e-01\n",
      "  -7.77845464e-01  7.39727881e-01 -7.03478215e-01  6.69004929e-01\n",
      "  -6.36220974e-01  6.05043566e-01 -5.75393977e-01  1.00000000e+00]\n",
      " [ 4.48581262e-01  2.01225149e-01  9.02658311e-02  4.04915604e-02\n",
      "   1.81637553e-02  8.14792027e-03  3.65500436e-03  1.63956647e-03\n",
      "   7.35478795e-04  3.29922006e-04  1.47996830e-04  1.00000000e+00]\n",
      " [-6.33264791e-01  4.01024296e-01 -2.53954567e-01  1.60820486e-01\n",
      "  -1.01841951e-01  6.44929219e-02 -4.08410967e-02  2.58632286e-02\n",
      "  -1.63782720e-02  1.03717830e-02 -6.56808501e-03  1.00000000e+00]\n",
      " [-2.78245163e-01  7.74203707e-02 -2.15418437e-02  5.99391380e-03\n",
      "  -1.66777752e-03  4.64051029e-04 -1.29119954e-04  3.59270027e-05\n",
      "  -9.99651472e-06  2.78148187e-06 -7.73933876e-07  1.00000000e+00]\n",
      " [ 5.20228603e-01  2.70637799e-01  1.40793524e-01  7.32448185e-02\n",
      "   3.81040496e-02  1.98228165e-02  1.03123961e-02  5.36480343e-03\n",
      "   2.79092419e-03  1.45191859e-03  7.55329582e-04  1.00000000e+00]\n",
      " [-1.16082198e-01  1.34750767e-02 -1.56421652e-03  1.81577692e-04\n",
      "  -2.10779376e-05  2.44677332e-06 -2.84026825e-07  3.29704582e-08\n",
      "  -3.82728326e-09  4.44279453e-10 -5.15729354e-11  1.00000000e+00]\n",
      " [ 1.70976781e-01  2.92330596e-02  4.99817444e-03  8.54571776e-04\n",
      "   1.46111931e-04  2.49817477e-05  4.27129880e-06  7.30292920e-07\n",
      "   1.24863133e-07  2.13486965e-08  3.65013141e-09  1.00000000e+00]\n",
      " [ 8.51357444e-01  7.24809497e-01  6.17071961e-01  5.25348808e-01\n",
      "   4.47259618e-01  3.80777805e-01  3.24178019e-01  2.75991370e-01\n",
      "   2.34967307e-01  2.00041166e-01  1.70306536e-01  1.00000000e+00]\n",
      " [-5.51434756e-01  3.04080290e-01 -1.67680441e-01  9.24648228e-02\n",
      "  -5.09883170e-02  2.81167302e-02 -1.55045422e-02  8.54974346e-03\n",
      "  -4.71462570e-03  2.59980847e-03 -1.43362475e-03  1.00000000e+00]\n",
      " [ 9.23597192e-01  8.53031773e-01  7.87857750e-01  7.27663206e-01\n",
      "   6.72067694e-01  6.20719835e-01  5.73295096e-01  5.29493741e-01\n",
      "   4.89038933e-01  4.51674985e-01  4.17165748e-01  1.00000000e+00]\n",
      " [ 5.69376804e-01  3.24189945e-01  1.84586235e-01  1.05099120e-01\n",
      "   5.98410013e-02  3.40720781e-02  1.93998509e-02  1.10458251e-02\n",
      "   6.28923660e-03  3.58094543e-03  2.03890727e-03  1.00000000e+00]\n",
      " [-7.98845768e-01  6.38154561e-01 -5.09787070e-01  4.07241244e-01\n",
      "  -3.25322944e-01  2.59882857e-01 -2.07606321e-01  1.65845431e-01\n",
      "  -1.32484920e-01  1.05835018e-01 -8.45458562e-02  1.00000000e+00]\n",
      " [-9.94787225e-01  9.89601623e-01 -9.84443052e-01  9.79311372e-01\n",
      "  -9.74206442e-01  9.69128123e-01 -9.64076277e-01  9.59050764e-01\n",
      "  -9.54051448e-01  9.49078193e-01 -9.44130861e-01  1.00000000e+00]\n",
      " [ 2.45263845e-01  6.01543537e-02  1.47536881e-02  3.61854626e-03\n",
      "   8.87498570e-04  2.17671312e-04  5.33869029e-05  1.30938771e-05\n",
      "   3.21145464e-06  7.87653712e-07  1.93182978e-07  1.00000000e+00]]\n"
     ]
    }
   ],
   "source": [
    "X_train_t11 = train.drop(columns=['Y']).to_numpy()\n",
    "X_bias = np.ones((X_train.shape[0],1))\n",
    "X1 = X_train_t11 ** 2\n",
    "X2 = X_train_t11 ** 3\n",
    "X3 = X_train_t11 ** 4\n",
    "X4 = X_train_t11 ** 5\n",
    "X5 = X_train_t11 ** 6\n",
    "X6 = X_train_t11 ** 7\n",
    "X7 = X_train_t11 ** 8\n",
    "X8 = X_train_t11 ** 9\n",
    "X9 = X_train_t11 ** 10\n",
    "X10 = X_train_t11 ** 11\n",
    "\n",
    "X_train_t11 = np.hstack((X_train_t11,X1))\n",
    "X_train_t11 = np.column_stack((X_train_t11,X2))\n",
    "X_train_t11 = np.column_stack((X_train_t11,X3))\n",
    "X_train_t11 = np.column_stack((X_train_t11,X4))\n",
    "X_train_t11 = np.column_stack((X_train_t11,X5))\n",
    "X_train_t11 = np.column_stack((X_train_t11,X6))\n",
    "X_train_t11 = np.column_stack((X_train_t11,X7))\n",
    "X_train_t11 = np.column_stack((X_train_t11,X8))\n",
    "X_train_t11 = np.column_stack((X_train_t11,X9))\n",
    "X_train_t11 = np.column_stack((X_train_t11,X10))\n",
    "X_train_t11 = np.column_stack((X_train_t11,X_bias))\n",
    "print(X_train_t11)"
   ]
  },
  {
   "cell_type": "code",
   "execution_count": 44,
   "id": "49d634b8",
   "metadata": {},
   "outputs": [
    {
     "name": "stdout",
     "output_type": "stream",
     "text": [
      "[[ 4.90432821e-01  2.40524352e-01  1.17961036e-01  5.78519639e-02\n",
      "   2.83725018e-02  1.39148061e-02  6.82427762e-03  3.34684972e-03\n",
      "   1.64140495e-03  8.04998861e-04  3.94797862e-04  1.00000000e+00]\n",
      " [-7.13459670e-02  5.09024701e-03 -3.63168595e-04  2.59106146e-05\n",
      "  -1.84861785e-06  1.31891428e-07 -9.40992150e-09  6.71359949e-10\n",
      "  -4.78988247e-11  3.41738797e-12 -2.43816849e-13  1.00000000e+00]\n",
      " [ 7.61290325e-01  5.79562959e-01  4.41215673e-01  3.35893223e-01\n",
      "   2.55712261e-01  1.94671270e-01  1.48201355e-01  1.12824258e-01\n",
      "   8.58920157e-02  6.53887605e-02  4.97798307e-02  1.00000000e+00]\n",
      " [ 6.83505550e-01  4.67179837e-01  3.19320011e-01  2.18257000e-01\n",
      "   1.49179871e-01  1.01965270e-01  6.96938277e-02  4.76361180e-02\n",
      "   3.25595511e-02  2.22546339e-02  1.52111658e-02  1.00000000e+00]\n",
      " [ 8.83670177e-01  7.80872982e-01  6.90034166e-01  6.09762614e-01\n",
      "   5.38829037e-01  4.76147150e-01  4.20757037e-01  3.71810445e-01\n",
      "   3.28557802e-01  2.90336731e-01  2.56561910e-01  1.00000000e+00]\n",
      " [-1.89990693e-01  3.60964634e-02 -6.85799210e-03  1.30295467e-03\n",
      "  -2.47549261e-04  4.70320557e-05 -8.93565285e-06  1.69769088e-06\n",
      "  -3.22545466e-07  6.12806367e-08 -1.16427506e-08  1.00000000e+00]\n",
      " [-8.76220843e-01  7.67762966e-01 -6.72729913e-01  5.89459972e-01\n",
      "  -5.16497113e-01  4.52565536e-01 -3.96547355e-01  3.47463058e-01\n",
      "  -3.04454374e-01  2.66769268e-01 -2.33748793e-01  1.00000000e+00]\n",
      " [ 2.01229335e-01  4.04932453e-02  8.14842882e-03  1.63970291e-03\n",
      "   3.29956327e-04  6.63968922e-05  1.33610025e-05  2.68862564e-06\n",
      "   5.41030350e-07  1.08871177e-07  2.19080746e-08  1.00000000e+00]\n",
      " [-7.15680491e-01  5.12198565e-01 -3.66570521e-01  2.62347370e-01\n",
      "  -1.87756895e-01  1.34373947e-01 -9.61688121e-02  6.88261426e-02\n",
      "  -4.92575276e-02  3.52526515e-02 -2.52296349e-02  1.00000000e+00]\n",
      " [-7.57671747e-01  5.74066476e-01 -4.34953950e-01  3.29552319e-01\n",
      "  -2.49692481e-01  1.89184939e-01 -1.43340083e-01  1.08604731e-01\n",
      "  -8.22867363e-02  6.23463352e-02 -4.72380567e-02  1.00000000e+00]]\n"
     ]
    }
   ],
   "source": [
    "X_test_t11 = test.drop(columns=['Y']).to_numpy()\n",
    "X_bias = np.ones((X_test_t11.shape[0],1))\n",
    "X1 = X_test_t11 ** 2\n",
    "X2 = X_test_t11 ** 3\n",
    "X3 = X_test_t11 ** 4\n",
    "X4 = X_test_t11 ** 5\n",
    "X5 = X_test_t11 ** 6\n",
    "X6 = X_test_t11 ** 7\n",
    "X7 = X_test_t11 ** 8\n",
    "X8 = X_test_t11 ** 9\n",
    "X9 = X_test_t11 ** 10\n",
    "X10 = X_test_t11 ** 11\n",
    "\n",
    "X_test_t11 = np.hstack((X_test_t11,X1))\n",
    "X_test_t11 = np.column_stack((X_test_t11,X2))\n",
    "X_test_t11 = np.column_stack((X_test_t11,X3))\n",
    "X_test_t11 = np.column_stack((X_test_t11,X4))\n",
    "X_test_t11 = np.column_stack((X_test_t11,X5))\n",
    "X_test_t11 = np.column_stack((X_test_t11,X6))\n",
    "X_test_t11 = np.column_stack((X_test_t11,X7))\n",
    "X_test_t11 = np.column_stack((X_test_t11,X8))\n",
    "X_test_t11 = np.column_stack((X_test_t11,X9))\n",
    "X_test_t11 = np.column_stack((X_test_t11,X10))\n",
    "X_test_t11 = np.column_stack((X_test_t11,X_bias))\n",
    "print(X_test_t11)"
   ]
  },
  {
   "cell_type": "code",
   "execution_count": 45,
   "id": "b6c121e6",
   "metadata": {},
   "outputs": [
    {
     "name": "stdout",
     "output_type": "stream",
     "text": [
      "0.03854415824494832\n",
      "0.05205143780111919\n"
     ]
    }
   ],
   "source": [
    "final_normal_w_t11 = cal_normal_Equation(X_train_t11, Y_train)\n",
    "\n",
    "final_train_cost_normal_t11 = calculate_cost_func(X_train_t11 , Y_train , final_normal_w_t11)\n",
    "print(final_train_cost_normal_t11)\n",
    "\n",
    "Y_model_test_t11 = np.dot(X_test_t11 , final_normal_w_t11)\n",
    "final_test_cost_normal_t11 = calculate_cost_func(X_test_t11 , Y_test , final_normal_w_t11)\n",
    "print(final_test_cost_normal_t11)"
   ]
  },
  {
   "cell_type": "code",
   "execution_count": 46,
   "id": "36e0b7a4",
   "metadata": {},
   "outputs": [
    {
     "name": "stdout",
     "output_type": "stream",
     "text": [
      "(32, 14)\n"
     ]
    },
    {
     "data": {
      "text/plain": [
       "[<matplotlib.lines.Line2D at 0x1c5acd024f0>]"
      ]
     },
     "execution_count": 46,
     "metadata": {},
     "output_type": "execute_result"
    },
    {
     "data": {
      "image/png": "[encoded data removed]",
      "text/plain": [
       "<Figure size 432x288 with 1 Axes>"
      ]
     },
     "metadata": {
      "needs_background": "light"
     },
     "output_type": "display_data"
    }
   ],
   "source": [
    "Y_model_normal = np.dot(X_train_t11 , final_normal_w_t11)\n",
    "\n",
    "final_df_t11 = np.column_stack((X_train_t11,Y_model_normal))\n",
    "final_df_t11 = np.column_stack((final_df_t11,Y_train))\n",
    "\n",
    "final_df_t11 = final_df_t11[final_df_t11[:,0].astype(float).argsort()]\n",
    "\n",
    "print(final_df_t11.shape)\n",
    "\n",
    "X_train_sec= final_df_t11[:,0]\n",
    "Y_model = final_df_t11[:,12]\n",
    "\n",
    "y_train= final_df_t11[:,13]\n",
    "\n",
    "\n",
    "\n",
    "plt.scatter(X_train_sec, y_train,color='g')\n",
    "plt.plot(X_train_sec, Y_model,color='k')"
   ]
  },
  {
   "cell_type": "code",
   "execution_count": 47,
   "id": "086b4cd7",
   "metadata": {},
   "outputs": [
    {
     "name": "stdout",
     "output_type": "stream",
     "text": [
      "[[-6.75040407e-01  4.55679551e-01 -3.07602110e-01  2.07643853e-01\n",
      "  -1.40167991e-01  9.46190578e-02 -6.38716873e-02  4.31159698e-02\n",
      "  -2.91050218e-02  1.96470658e-02 -1.32625633e-02  8.95276611e-03\n",
      "  -6.04347888e-03  1.00000000e+00]\n",
      " [ 3.68648464e-01  1.35901690e-01  5.00999493e-02  1.84692693e-02\n",
      "   6.80866778e-03  2.51000492e-03  9.25309457e-04  3.41113910e-04\n",
      "   1.25751119e-04  4.63579569e-05  1.70897896e-05  6.30012469e-06\n",
      "   2.32253129e-06  1.00000000e+00]\n",
      " [-1.47896730e-01  2.18734427e-02 -3.23501066e-03  4.78447498e-04\n",
      "  -7.07608204e-05  1.04652939e-05 -1.54778275e-06  2.28912008e-07\n",
      "  -3.38553374e-08  5.00709370e-09 -7.40532785e-10  1.09522377e-10\n",
      "  -1.61980015e-11  1.00000000e+00]\n",
      " [ 4.03943945e-01  1.63170711e-01  6.59118206e-02  2.66246808e-02\n",
      "   1.07548786e-02  4.34436809e-03  1.75488119e-03  7.08873629e-04\n",
      "   2.86345210e-04  1.15667414e-04  4.67231515e-05  1.88735341e-05\n",
      "   7.62384983e-06  1.00000000e+00]\n",
      " [ 2.91973619e-01  8.52485942e-02  2.48903406e-02  7.26732281e-03\n",
      "   2.12186654e-03  6.19529053e-04  1.80886140e-04  5.28139808e-05\n",
      "   1.54202891e-05  4.50231762e-06  1.31455797e-06  3.83816248e-07\n",
      "   1.12064219e-07  1.00000000e+00]\n",
      " [-8.38165551e-01  7.02521491e-01 -5.88829312e-01  4.93536445e-01\n",
      "  -4.13665246e-01  3.46719959e-01 -2.90608726e-01  2.43578223e-01\n",
      "  -2.04158875e-01  1.71118936e-01 -1.43425997e-01  1.20214730e-01\n",
      "  -1.00759846e-01  1.00000000e+00]\n",
      " [-4.39657655e-01  1.93298854e-01 -8.49853207e-02  3.73644468e-02\n",
      "  -1.64275651e-02  7.22250473e-03 -3.17542949e-03  1.39610188e-03\n",
      "  -6.13806881e-04  2.69864894e-04 -1.18648166e-04  5.21645746e-05\n",
      "  -2.29345545e-05  1.00000000e+00]\n",
      " [ 1.11825830e-02  1.25050163e-04  1.39838382e-06  1.56375432e-08\n",
      "   1.74868124e-10  1.95547731e-12  2.18672874e-14  2.44532756e-16\n",
      "   2.73450784e-18  3.05788609e-20  3.41950650e-22  3.82389152e-24\n",
      "   4.27609843e-26  1.00000000e+00]\n",
      " [-9.19998570e-01  8.46397369e-01 -7.78684369e-01  7.16388506e-01\n",
      "  -6.59076401e-01  6.06349346e-01 -5.57840532e-01  5.13212491e-01\n",
      "  -4.72154758e-01  4.34381702e-01 -3.99630545e-01  3.67659530e-01\n",
      "  -3.38246242e-01  1.00000000e+00]\n",
      " [-2.37523731e-01  5.64175228e-02 -1.34005005e-02  3.18293688e-03\n",
      "  -7.56023043e-04  1.79573414e-04 -4.26529472e-05  1.01310872e-05\n",
      "  -2.40637362e-06  5.71570841e-07 -1.35761639e-07  3.22466110e-08\n",
      "  -7.65933535e-09  1.00000000e+00]\n",
      " [-5.17444347e-01  2.67748652e-01 -1.38545027e-01  7.16893408e-02\n",
      "  -3.70952441e-02  1.91947244e-02 -9.93220162e-03  5.13936158e-03\n",
      "  -2.65933360e-03  1.37605714e-03 -7.12032987e-04  3.68437444e-04\n",
      "  -1.90645873e-04  1.00000000e+00]\n",
      " [-3.91619156e-01  1.53365563e-01 -6.00608925e-02  2.35209960e-02\n",
      "  -9.21127261e-03  3.60731081e-03 -1.41269201e-03  5.53237254e-04\n",
      "  -2.16658306e-04  8.48475431e-05 -3.32279232e-05  1.30126912e-05\n",
      "  -5.09601916e-06  1.00000000e+00]\n",
      " [ 3.26664566e-01  1.06709739e-01  3.48582905e-02  1.13869683e-02\n",
      "   3.71971907e-03  1.21510041e-03  3.96930250e-04  1.29663048e-04\n",
      "   4.23563232e-05  1.38363099e-05  4.51983218e-06  1.47646902e-06\n",
      "   4.82310111e-07  1.00000000e+00]\n",
      " [-4.69023532e-01  2.19983074e-01 -1.03177238e-01  4.83925527e-02\n",
      "  -2.26972460e-02  1.06455425e-02 -4.99300993e-03  2.34183915e-03\n",
      "  -1.09837767e-03  5.15164975e-04 -2.41624496e-04  1.13327575e-04\n",
      "  -5.31532993e-05  1.00000000e+00]\n",
      " [-3.13016377e-01  9.79792523e-02 -3.06691106e-02  9.59993388e-03\n",
      "  -3.00493652e-03  9.40594343e-04 -2.94421433e-04  9.21587304e-05\n",
      "  -2.88471919e-05  9.02964350e-06 -2.82642629e-06  8.84717718e-07\n",
      "  -2.76931135e-07  1.00000000e+00]\n",
      " [-5.94760069e-01  3.53739540e-01 -2.10390153e-01  1.25131662e-01\n",
      "  -7.44233159e-02  4.42640165e-02 -2.63264695e-02  1.56579328e-02\n",
      "  -9.31271320e-03  5.53882995e-03 -3.29427488e-03  1.95930316e-03\n",
      "  -1.16531528e-03  1.00000000e+00]\n",
      " [ 6.49352071e-01  4.21658112e-01  2.73804568e-01  1.77795564e-01\n",
      "   1.15451917e-01  7.49689417e-02  4.86812375e-02  3.16112624e-02\n",
      "   2.05268387e-02  1.33291452e-02  8.65530806e-03  5.62034221e-03\n",
      "   3.64958086e-03  1.00000000e+00]\n",
      " [ 7.29865992e-01  5.32704366e-01  3.88802801e-01  2.83773942e-01\n",
      "   2.07116950e-01  1.51167618e-01  1.10332103e-01  8.05276501e-02\n",
      "   5.87743932e-02  4.28974308e-02  3.13093759e-02  2.28516487e-02\n",
      "   1.66786412e-02  1.00000000e+00]\n",
      " [-9.50995944e-01  9.04393286e-01 -8.60074346e-01  8.17927215e-01\n",
      "  -7.77845464e-01  7.39727881e-01 -7.03478215e-01  6.69004929e-01\n",
      "  -6.36220974e-01  6.05043566e-01 -5.75393977e-01  5.47197338e-01\n",
      "  -5.20382449e-01  1.00000000e+00]\n",
      " [ 4.48581262e-01  2.01225149e-01  9.02658311e-02  4.04915604e-02\n",
      "   1.81637553e-02  8.14792027e-03  3.65500436e-03  1.63956647e-03\n",
      "   7.35478795e-04  3.29922006e-04  1.47996830e-04  6.63886047e-05\n",
      "   2.97806841e-05  1.00000000e+00]\n",
      " [-6.33264791e-01  4.01024296e-01 -2.53954567e-01  1.60820486e-01\n",
      "  -1.01841951e-01  6.44929219e-02 -4.08410967e-02  2.58632286e-02\n",
      "  -1.63782720e-02  1.03717830e-02 -6.56808501e-03  4.15933698e-03\n",
      "  -2.63396166e-03  1.00000000e+00]\n",
      " [-2.78245163e-01  7.74203707e-02 -2.15418437e-02  5.99391380e-03\n",
      "  -1.66777752e-03  4.64051029e-04 -1.29119954e-04  3.59270027e-05\n",
      "  -9.99651472e-06  2.78148187e-06 -7.73933876e-07  2.15343357e-07\n",
      "  -5.99182476e-08  1.00000000e+00]\n",
      " [ 5.20228603e-01  2.70637799e-01  1.40793524e-01  7.32448185e-02\n",
      "   3.81040496e-02  1.98228165e-02  1.03123961e-02  5.36480343e-03\n",
      "   2.79092419e-03  1.45191859e-03  7.55329582e-04  3.92944053e-04\n",
      "   2.04420736e-04  1.00000000e+00]\n",
      " [-1.16082198e-01  1.34750767e-02 -1.56421652e-03  1.81577692e-04\n",
      "  -2.10779376e-05  2.44677332e-06 -2.84026825e-07  3.29704582e-08\n",
      "  -3.82728326e-09  4.44279453e-10 -5.15729354e-11  5.98669970e-12\n",
      "  -6.94949260e-13  1.00000000e+00]\n",
      " [ 1.70976781e-01  2.92330596e-02  4.99817444e-03  8.54571776e-04\n",
      "   1.46111931e-04  2.49817477e-05  4.27129880e-06  7.30292920e-07\n",
      "   1.24863133e-07  2.13486965e-08  3.65013141e-09  6.24087718e-10\n",
      "   1.06704509e-10  1.00000000e+00]\n",
      " [ 8.51357444e-01  7.24809497e-01  6.17071961e-01  5.25348808e-01\n",
      "   4.47259618e-01  3.80777805e-01  3.24178019e-01  2.75991370e-01\n",
      "   2.34967307e-01  2.00041166e-01  1.70306536e-01  1.44991737e-01\n",
      "   1.23439795e-01  1.00000000e+00]\n",
      " [-5.51434756e-01  3.04080290e-01 -1.67680441e-01  9.24648228e-02\n",
      "  -5.09883170e-02  2.81167302e-02 -1.55045422e-02  8.54974346e-03\n",
      "  -4.71462570e-03  2.59980847e-03 -1.43362475e-03  7.90550515e-04\n",
      "  -4.35937030e-04  1.00000000e+00]\n",
      " [ 9.23597192e-01  8.53031773e-01  7.87857750e-01  7.27663206e-01\n",
      "   6.72067694e-01  6.20719835e-01  5.73295096e-01  5.29493741e-01\n",
      "   4.89038933e-01  4.51674985e-01  4.17165748e-01  3.85293113e-01\n",
      "   3.55855637e-01  1.00000000e+00]\n",
      " [ 5.69376804e-01  3.24189945e-01  1.84586235e-01  1.05099120e-01\n",
      "   5.98410013e-02  3.40720781e-02  1.93998509e-02  1.10458251e-02\n",
      "   6.28923660e-03  3.58094543e-03  2.03890727e-03  1.16090650e-03\n",
      "   6.60993234e-04  1.00000000e+00]\n",
      " [-7.98845768e-01  6.38154561e-01 -5.09787070e-01  4.07241244e-01\n",
      "  -3.25322944e-01  2.59882857e-01 -2.07606321e-01  1.65845431e-01\n",
      "  -1.32484920e-01  1.05835018e-01 -8.45458562e-02  6.75390995e-02\n",
      "  -5.39533238e-02  1.00000000e+00]\n",
      " [-9.94787225e-01  9.89601623e-01 -9.84443052e-01  9.79311372e-01\n",
      "  -9.74206442e-01  9.69128123e-01 -9.64076277e-01  9.59050764e-01\n",
      "  -9.54051448e-01  9.49078193e-01 -9.44130861e-01  9.39209320e-01\n",
      "  -9.34313433e-01  1.00000000e+00]\n",
      " [ 2.45263845e-01  6.01543537e-02  1.47536881e-02  3.61854626e-03\n",
      "   8.87498570e-04  2.17671312e-04  5.33869029e-05  1.30938771e-05\n",
      "   3.21145464e-06  7.87653712e-07  1.93182978e-07  4.73808000e-08\n",
      "   1.16207972e-08  1.00000000e+00]]\n"
     ]
    }
   ],
   "source": [
    "X_train_t13 = train.drop(columns=['Y']).to_numpy()\n",
    "X_bias = np.ones((X_train.shape[0],1))\n",
    "X1 = X_train_t13 ** 2\n",
    "X2 = X_train_t13 ** 3\n",
    "X3 = X_train_t13 ** 4\n",
    "X4 = X_train_t13 ** 5\n",
    "X5 = X_train_t13 ** 6\n",
    "X6 = X_train_t13 ** 7\n",
    "X7 = X_train_t13 ** 8\n",
    "X8 = X_train_t13 ** 9\n",
    "X9 = X_train_t13 ** 10\n",
    "X10 = X_train_t13 ** 11\n",
    "X11 = X_train_t13 ** 12\n",
    "X12 = X_train_t13 ** 13\n",
    "\n",
    "X_train_t13 = np.hstack((X_train_t13,X1))\n",
    "X_train_t13 = np.column_stack((X_train_t13,X2))\n",
    "X_train_t13 = np.column_stack((X_train_t13,X3))\n",
    "X_train_t13 = np.column_stack((X_train_t13,X4))\n",
    "X_train_t13 = np.column_stack((X_train_t13,X5))\n",
    "X_train_t13 = np.column_stack((X_train_t13,X6))\n",
    "X_train_t13 = np.column_stack((X_train_t13,X7))\n",
    "X_train_t13 = np.column_stack((X_train_t13,X8))\n",
    "X_train_t13 = np.column_stack((X_train_t13,X9))\n",
    "X_train_t13 = np.column_stack((X_train_t13,X10))\n",
    "X_train_t13 = np.column_stack((X_train_t13,X11))\n",
    "X_train_t13 = np.column_stack((X_train_t13,X12))\n",
    "X_train_t13 = np.column_stack((X_train_t13,X_bias))\n",
    "print(X_train_t13)"
   ]
  },
  {
   "cell_type": "code",
   "execution_count": 48,
   "id": "4a19a291",
   "metadata": {},
   "outputs": [
    {
     "name": "stdout",
     "output_type": "stream",
     "text": [
      "[[ 4.90432821e-01  2.40524352e-01  1.17961036e-01  5.78519639e-02\n",
      "   2.83725018e-02  1.39148061e-02  6.82427762e-03  3.34684972e-03\n",
      "   1.64140495e-03  8.04998861e-04  3.94797862e-04  1.93621829e-04\n",
      "   9.49584999e-05  1.00000000e+00]\n",
      " [-7.13459670e-02  5.09024701e-03 -3.63168595e-04  2.59106146e-05\n",
      "  -1.84861785e-06  1.31891428e-07 -9.40992150e-09  6.71359949e-10\n",
      "  -4.78988247e-11  3.41738797e-12 -2.43816849e-13  1.73953489e-14\n",
      "  -1.24108799e-15  1.00000000e+00]\n",
      " [ 7.61290325e-01  5.79562959e-01  4.41215673e-01  3.35893223e-01\n",
      "   2.55712261e-01  1.94671270e-01  1.48201355e-01  1.12824258e-01\n",
      "   8.58920157e-02  6.53887605e-02  4.97798307e-02  3.78969035e-02\n",
      "   2.88505460e-02  1.00000000e+00]\n",
      " [ 6.83505550e-01  4.67179837e-01  3.19320011e-01  2.18257000e-01\n",
      "   1.49179871e-01  1.01965270e-01  6.96938277e-02  4.76361180e-02\n",
      "   3.25595511e-02  2.22546339e-02  1.52111658e-02  1.03969162e-02\n",
      "   7.10634994e-03  1.00000000e+00]\n",
      " [ 8.83670177e-01  7.80872982e-01  6.90034166e-01  6.09762614e-01\n",
      "   5.38829037e-01  4.76147150e-01  4.20757037e-01  3.71810445e-01\n",
      "   3.28557802e-01  2.90336731e-01  2.56561910e-01  2.26716109e-01\n",
      "   2.00342264e-01  1.00000000e+00]\n",
      " [-1.89990693e-01  3.60964634e-02 -6.85799210e-03  1.30295467e-03\n",
      "  -2.47549261e-04  4.70320557e-05 -8.93565285e-06  1.69769088e-06\n",
      "  -3.22545466e-07  6.12806367e-08 -1.16427506e-08  2.21201426e-09\n",
      "  -4.20262122e-10  1.00000000e+00]\n",
      " [-8.76220843e-01  7.67762966e-01 -6.72729913e-01  5.89459972e-01\n",
      "  -5.16497113e-01  4.52565536e-01 -3.96547355e-01  3.47463058e-01\n",
      "  -3.04454374e-01  2.66769268e-01 -2.33748793e-01  2.04815564e-01\n",
      "  -1.79463666e-01  1.00000000e+00]\n",
      " [ 2.01229335e-01  4.04932453e-02  8.14842882e-03  1.63970291e-03\n",
      "   3.29956327e-04  6.63968922e-05  1.33610025e-05  2.68862564e-06\n",
      "   5.41030350e-07  1.08871177e-07  2.19080746e-08  4.40854729e-09\n",
      "   8.87129040e-10  1.00000000e+00]\n",
      " [-7.15680491e-01  5.12198565e-01 -3.66570521e-01  2.62347370e-01\n",
      "  -1.87756895e-01  1.34373947e-01 -9.61688121e-02  6.88261426e-02\n",
      "  -4.92575276e-02  3.52526515e-02 -2.52296349e-02  1.80563575e-02\n",
      "  -1.29225828e-02  1.00000000e+00]\n",
      " [-7.57671747e-01  5.74066476e-01 -4.34953950e-01  3.29552319e-01\n",
      "  -2.49692481e-01  1.89184939e-01 -1.43340083e-01  1.08604731e-01\n",
      "  -8.22867363e-02  6.23463352e-02 -4.72380567e-02  3.57909410e-02\n",
      "  -2.71177848e-02  1.00000000e+00]]\n"
     ]
    }
   ],
   "source": [
    "X_test_t13 = test.drop(columns=['Y']).to_numpy()\n",
    "X_bias = np.ones((X_test_t13.shape[0],1))\n",
    "X1 = X_test_t13 ** 2\n",
    "X2 = X_test_t13 ** 3\n",
    "X3 = X_test_t13 ** 4\n",
    "X4 = X_test_t13 ** 5\n",
    "X5 = X_test_t13 ** 6\n",
    "X6 = X_test_t13 ** 7\n",
    "X7 = X_test_t13 ** 8\n",
    "X8 = X_test_t13 ** 9\n",
    "X9 = X_test_t13 ** 10\n",
    "X10 = X_test_t13 ** 11\n",
    "X11 = X_test_t13 ** 12\n",
    "X12 = X_test_t13 ** 13\n",
    "\n",
    "X_test_t13 = np.hstack((X_test_t13,X1))\n",
    "X_test_t13 = np.column_stack((X_test_t13,X2))\n",
    "X_test_t13 = np.column_stack((X_test_t13,X3))\n",
    "X_test_t13 = np.column_stack((X_test_t13,X4))\n",
    "X_test_t13 = np.column_stack((X_test_t13,X5))\n",
    "X_test_t13 = np.column_stack((X_test_t13,X6))\n",
    "X_test_t13 = np.column_stack((X_test_t13,X7))\n",
    "X_test_t13 = np.column_stack((X_test_t13,X8))\n",
    "X_test_t13 = np.column_stack((X_test_t13,X9))\n",
    "X_test_t13 = np.column_stack((X_test_t13,X10))\n",
    "X_test_t13 = np.column_stack((X_test_t13,X11))\n",
    "X_test_t13 = np.column_stack((X_test_t13,X12))\n",
    "X_test_t13 = np.column_stack((X_test_t13,X_bias))\n",
    "print(X_test_t13)"
   ]
  },
  {
   "cell_type": "code",
   "execution_count": 49,
   "id": "4205451e",
   "metadata": {},
   "outputs": [
    {
     "name": "stdout",
     "output_type": "stream",
     "text": [
      "0.038362173822742256\n",
      "0.053327246234044653\n"
     ]
    }
   ],
   "source": [
    "final_normal_w_t13 = cal_normal_Equation(X_train_t13, Y_train)\n",
    "\n",
    "final_train_cost_normal_t13 = calculate_cost_func(X_train_t13 , Y_train , final_normal_w_t13)\n",
    "print(final_train_cost_normal_t13)\n",
    "\n",
    "Y_model_test_t13 = np.dot(X_test_t13 , final_normal_w_t13)\n",
    "final_test_cost_normal_t13 = calculate_cost_func(X_test_t13 , Y_test , final_normal_w_t13)\n",
    "print(final_test_cost_normal_t13)"
   ]
  },
  {
   "cell_type": "code",
   "execution_count": 50,
   "id": "9452f9e3",
   "metadata": {},
   "outputs": [
    {
     "name": "stdout",
     "output_type": "stream",
     "text": [
      "(32, 16)\n"
     ]
    },
    {
     "data": {
      "text/plain": [
       "[<matplotlib.lines.Line2D at 0x1c5acd54b50>]"
      ]
     },
     "execution_count": 50,
     "metadata": {},
     "output_type": "execute_result"
    },
    {
     "data": {
      "image/png": "[encoded data removed]",
      "text/plain": [
       "<Figure size 432x288 with 1 Axes>"
      ]
     },
     "metadata": {
      "needs_background": "light"
     },
     "output_type": "display_data"
    }
   ],
   "source": [
    "Y_model_normal = np.dot(X_train_t13 , final_normal_w_t13)\n",
    "\n",
    "final_df_t13 = np.column_stack((X_train_t13,Y_model_normal))\n",
    "final_df_t13 = np.column_stack((final_df_t13,Y_train))\n",
    "\n",
    "final_df_t13 = final_df_t13[final_df_t13[:,0].astype(float).argsort()]\n",
    "\n",
    "print(final_df_t13.shape)\n",
    "\n",
    "X_train_sec= final_df_t13[:,0]\n",
    "Y_model = final_df_t13[:,14]\n",
    "\n",
    "y_train= final_df_t13[:,15]\n",
    "\n",
    "\n",
    "\n",
    "plt.scatter(X_train_sec, y_train,color='g')\n",
    "plt.plot(X_train_sec, Y_model,color='k')"
   ]
  },
  {
   "cell_type": "code",
   "execution_count": 51,
   "id": "270e8025",
   "metadata": {},
   "outputs": [
    {
     "name": "stdout",
     "output_type": "stream",
     "text": [
      "[[-6.75040407e-01  4.55679551e-01 -3.07602110e-01  2.07643853e-01\n",
      "  -1.40167991e-01  9.46190578e-02 -6.38716873e-02  4.31159698e-02\n",
      "  -2.91050218e-02  1.96470658e-02 -1.32625633e-02  8.95276611e-03\n",
      "  -6.04347888e-03  4.07959244e-03 -2.75388974e-03  1.00000000e+00]\n",
      " [ 3.68648464e-01  1.35901690e-01  5.00999493e-02  1.84692693e-02\n",
      "   6.80866778e-03  2.51000492e-03  9.25309457e-04  3.41113910e-04\n",
      "   1.25751119e-04  4.63579569e-05  1.70897896e-05  6.30012469e-06\n",
      "   2.32253129e-06  8.56197592e-07  3.15635927e-07  1.00000000e+00]\n",
      " [-1.47896730e-01  2.18734427e-02 -3.23501066e-03  4.78447498e-04\n",
      "  -7.07608204e-05  1.04652939e-05 -1.54778275e-06  2.28912008e-07\n",
      "  -3.38553374e-08  5.00709370e-09 -7.40532785e-10  1.09522377e-10\n",
      "  -1.61980015e-11  2.39563145e-12 -3.54306058e-13  1.00000000e+00]\n",
      " [ 4.03943945e-01  1.63170711e-01  6.59118206e-02  2.66246808e-02\n",
      "   1.07548786e-02  4.34436809e-03  1.75488119e-03  7.08873629e-04\n",
      "   2.86345210e-04  1.15667414e-04  4.67231515e-05  1.88735341e-05\n",
      "   7.62384983e-06  3.07960798e-06  1.24398900e-06  1.00000000e+00]\n",
      " [ 2.91973619e-01  8.52485942e-02  2.48903406e-02  7.26732281e-03\n",
      "   2.12186654e-03  6.19529053e-04  1.80886140e-04  5.28139808e-05\n",
      "   1.54202891e-05  4.50231762e-06  1.31455797e-06  3.83816248e-07\n",
      "   1.12064219e-07  3.27197956e-08  9.55331712e-09  1.00000000e+00]\n",
      " [-8.38165551e-01  7.02521491e-01 -5.88829312e-01  4.93536445e-01\n",
      "  -4.13665246e-01  3.46719959e-01 -2.90608726e-01  2.43578223e-01\n",
      "  -2.04158875e-01  1.71118936e-01 -1.43425997e-01  1.20214730e-01\n",
      "  -1.00759846e-01  8.44534314e-02 -7.07859569e-02  1.00000000e+00]\n",
      " [-4.39657655e-01  1.93298854e-01 -8.49853207e-02  3.73644468e-02\n",
      "  -1.64275651e-02  7.22250473e-03 -3.17542949e-03  1.39610188e-03\n",
      "  -6.13806881e-04  2.69864894e-04 -1.18648166e-04  5.21645746e-05\n",
      "  -2.29345545e-05  1.00833525e-05 -4.43322310e-06  1.00000000e+00]\n",
      " [ 1.11825830e-02  1.25050163e-04  1.39838382e-06  1.56375432e-08\n",
      "   1.74868124e-10  1.95547731e-12  2.18672874e-14  2.44532756e-16\n",
      "   2.73450784e-18  3.05788609e-20  3.41950650e-22  3.82389152e-24\n",
      "   4.27609843e-26  4.78178257e-28  5.34726804e-30  1.00000000e+00]\n",
      " [-9.19998570e-01  8.46397369e-01 -7.78684369e-01  7.16388506e-01\n",
      "  -6.59076401e-01  6.06349346e-01 -5.57840532e-01  5.13212491e-01\n",
      "  -4.72154758e-01  4.34381702e-01 -3.99630545e-01  3.67659530e-01\n",
      "  -3.38246242e-01  3.11186059e-01 -2.86290729e-01  1.00000000e+00]\n",
      " [-2.37523731e-01  5.64175228e-02 -1.34005005e-02  3.18293688e-03\n",
      "  -7.56023043e-04  1.79573414e-04 -4.26529472e-05  1.01310872e-05\n",
      "  -2.40637362e-06  5.71570841e-07 -1.35761639e-07  3.22466110e-08\n",
      "  -7.65933535e-09  1.81927391e-09 -4.32120726e-10  1.00000000e+00]\n",
      " [-5.17444347e-01  2.67748652e-01 -1.38545027e-01  7.16893408e-02\n",
      "  -3.70952441e-02  1.91947244e-02 -9.93220162e-03  5.13936158e-03\n",
      "  -2.65933360e-03  1.37605714e-03 -7.12032987e-04  3.68437444e-04\n",
      "  -1.90645873e-04  9.86486290e-05 -5.10451754e-05  1.00000000e+00]\n",
      " [-3.91619156e-01  1.53365563e-01 -6.00608925e-02  2.35209960e-02\n",
      "  -9.21127261e-03  3.60731081e-03 -1.41269201e-03  5.53237254e-04\n",
      "  -2.16658306e-04  8.48475431e-05 -3.32279232e-05  1.30126912e-05\n",
      "  -5.09601916e-06  1.99569872e-06 -7.81553850e-07  1.00000000e+00]\n",
      " [ 3.26664566e-01  1.06709739e-01  3.48582905e-02  1.13869683e-02\n",
      "   3.71971907e-03  1.21510041e-03  3.96930250e-04  1.29663048e-04\n",
      "   4.23563232e-05  1.38363099e-05  4.51983218e-06  1.47646902e-06\n",
      "   4.82310111e-07  1.57553623e-07  5.14671859e-08  1.00000000e+00]\n",
      " [-4.69023532e-01  2.19983074e-01 -1.03177238e-01  4.83925527e-02\n",
      "  -2.26972460e-02  1.06455425e-02 -4.99300993e-03  2.34183915e-03\n",
      "  -1.09837767e-03  5.15164975e-04 -2.41624496e-04  1.13327575e-04\n",
      "  -5.31532993e-05  2.49301482e-05 -1.16928261e-05  1.00000000e+00]\n",
      " [-3.13016377e-01  9.79792523e-02 -3.06691106e-02  9.59993388e-03\n",
      "  -3.00493652e-03  9.40594343e-04 -2.94421433e-04  9.21587304e-05\n",
      "  -2.88471919e-05  9.02964350e-06 -2.82642629e-06  8.84717718e-07\n",
      "  -2.76931135e-07  8.66839805e-08 -2.71335055e-08  1.00000000e+00]\n",
      " [-5.94760069e-01  3.53739540e-01 -2.10390153e-01  1.25131662e-01\n",
      "  -7.44233159e-02  4.42640165e-02 -2.63264695e-02  1.56579328e-02\n",
      "  -9.31271320e-03  5.53882995e-03 -3.29427488e-03  1.95930316e-03\n",
      "  -1.16531528e-03  6.93082996e-04 -4.12218091e-04  1.00000000e+00]\n",
      " [ 6.49352071e-01  4.21658112e-01  2.73804568e-01  1.77795564e-01\n",
      "   1.15451917e-01  7.49689417e-02  4.86812375e-02  3.16112624e-02\n",
      "   2.05268387e-02  1.33291452e-02  8.65530806e-03  5.62034221e-03\n",
      "   3.64958086e-03  2.36986289e-03  1.53887537e-03  1.00000000e+00]\n",
      " [ 7.29865992e-01  5.32704366e-01  3.88802801e-01  2.83773942e-01\n",
      "   2.07116950e-01  1.51167618e-01  1.10332103e-01  8.05276501e-02\n",
      "   5.87743932e-02  4.28974308e-02  3.13093759e-02  2.28516487e-02\n",
      "   1.66786412e-02  1.21731730e-02  8.88478501e-03  1.00000000e+00]\n",
      " [-9.50995944e-01  9.04393286e-01 -8.60074346e-01  8.17927215e-01\n",
      "  -7.77845464e-01  7.39727881e-01 -7.03478215e-01  6.69004929e-01\n",
      "  -6.36220974e-01  6.05043566e-01 -5.75393977e-01  5.47197338e-01\n",
      "  -5.20382449e-01  4.94881598e-01 -4.70630393e-01  1.00000000e+00]\n",
      " [ 4.48581262e-01  2.01225149e-01  9.02658311e-02  4.04915604e-02\n",
      "   1.81637553e-02  8.14792027e-03  3.65500436e-03  1.63956647e-03\n",
      "   7.35478795e-04  3.29922006e-04  1.47996830e-04  6.63886047e-05\n",
      "   2.97806841e-05  1.33590568e-05  5.99262258e-06  1.00000000e+00]\n",
      " [-6.33264791e-01  4.01024296e-01 -2.53954567e-01  1.60820486e-01\n",
      "  -1.01841951e-01  6.44929219e-02 -4.08410967e-02  2.58632286e-02\n",
      "  -1.63782720e-02  1.03717830e-02 -6.56808501e-03  4.15933698e-03\n",
      "  -2.63396166e-03  1.66799518e-03 -1.05628262e-03  1.00000000e+00]\n",
      " [-2.78245163e-01  7.74203707e-02 -2.15418437e-02  5.99391380e-03\n",
      "  -1.66777752e-03  4.64051029e-04 -1.29119954e-04  3.59270027e-05\n",
      "  -9.99651472e-06  2.78148187e-06 -7.73933876e-07  2.15343357e-07\n",
      "  -5.99182476e-08  1.66719626e-08 -4.63889294e-09  1.00000000e+00]\n",
      " [ 5.20228603e-01  2.70637799e-01  1.40793524e-01  7.32448185e-02\n",
      "   3.81040496e-02  1.98228165e-02  1.03123961e-02  5.36480343e-03\n",
      "   2.79092419e-03  1.45191859e-03  7.55329582e-04  3.92944053e-04\n",
      "   2.04420736e-04  1.06345514e-04  5.53239781e-05  1.00000000e+00]\n",
      " [-1.16082198e-01  1.34750767e-02 -1.56421652e-03  1.81577692e-04\n",
      "  -2.10779376e-05  2.44677332e-06 -2.84026825e-07  3.29704582e-08\n",
      "  -3.82728326e-09  4.44279453e-10 -5.15729354e-11  5.98669970e-12\n",
      "  -6.94949260e-13  8.06712376e-14 -9.36449457e-15  1.00000000e+00]\n",
      " [ 1.70976781e-01  2.92330596e-02  4.99817444e-03  8.54571776e-04\n",
      "   1.46111931e-04  2.49817477e-05  4.27129880e-06  7.30292920e-07\n",
      "   1.24863133e-07  2.13486965e-08  3.65013141e-09  6.24087718e-10\n",
      "   1.06704509e-10  1.82439935e-11  3.11929928e-12  1.00000000e+00]\n",
      " [ 8.51357444e-01  7.24809497e-01  6.17071961e-01  5.25348808e-01\n",
      "   4.47259618e-01  3.80777805e-01  3.24178019e-01  2.75991370e-01\n",
      "   2.34967307e-01  2.00041166e-01  1.70306536e-01  1.44991737e-01\n",
      "   1.23439795e-01  1.05091388e-01  8.94703355e-02  1.00000000e+00]\n",
      " [-5.51434756e-01  3.04080290e-01 -1.67680441e-01  9.24648228e-02\n",
      "  -5.09883170e-02  2.81167302e-02 -1.55045422e-02  8.54974346e-03\n",
      "  -4.71462570e-03  2.59980847e-03 -1.43362475e-03  7.90550515e-04\n",
      "  -4.35937030e-04  2.40390830e-04 -1.32559859e-04  1.00000000e+00]\n",
      " [ 9.23597192e-01  8.53031773e-01  7.87857750e-01  7.27663206e-01\n",
      "   6.72067694e-01  6.20719835e-01  5.73295096e-01  5.29493741e-01\n",
      "   4.89038933e-01  4.51674985e-01  4.17165748e-01  3.85293113e-01\n",
      "   3.55855637e-01  3.28667267e-01  3.03556165e-01  1.00000000e+00]\n",
      " [ 5.69376804e-01  3.24189945e-01  1.84586235e-01  1.05099120e-01\n",
      "   5.98410013e-02  3.40720781e-02  1.93998509e-02  1.10458251e-02\n",
      "   6.28923660e-03  3.58094543e-03  2.03890727e-03  1.16090650e-03\n",
      "   6.60993234e-04  3.76354215e-04  2.14287360e-04  1.00000000e+00]\n",
      " [-7.98845768e-01  6.38154561e-01 -5.09787070e-01  4.07241244e-01\n",
      "  -3.25322944e-01  2.59882857e-01 -2.07606321e-01  1.65845431e-01\n",
      "  -1.32484920e-01  1.05835018e-01 -8.45458562e-02  6.75390995e-02\n",
      "  -5.39533238e-02  4.31003844e-02 -3.44305596e-02  1.00000000e+00]\n",
      " [-9.94787225e-01  9.89601623e-01 -9.84443052e-01  9.79311372e-01\n",
      "  -9.74206442e-01  9.69128123e-01 -9.64076277e-01  9.59050764e-01\n",
      "  -9.54051448e-01  9.49078193e-01 -9.44130861e-01  9.39209320e-01\n",
      "  -9.34313433e-01  9.29443067e-01 -9.24598090e-01  1.00000000e+00]\n",
      " [ 2.45263845e-01  6.01543537e-02  1.47536881e-02  3.61854626e-03\n",
      "   8.87498570e-04  2.17671312e-04  5.33869029e-05  1.30938771e-05\n",
      "   3.21145464e-06  7.87653712e-07  1.93182978e-07  4.73808000e-08\n",
      "   1.16207972e-08  2.85016140e-09  6.99041543e-10  1.00000000e+00]]\n"
     ]
    }
   ],
   "source": [
    "X_train_t15 = train.drop(columns=['Y']).to_numpy()\n",
    "X_bias = np.ones((X_train.shape[0],1))\n",
    "X1 = X_train_t15 ** 2\n",
    "X2 = X_train_t15 ** 3\n",
    "X3 = X_train_t15 ** 4\n",
    "X4 = X_train_t15 ** 5\n",
    "X5 = X_train_t15 ** 6\n",
    "X6 = X_train_t15 ** 7\n",
    "X7 = X_train_t15 ** 8\n",
    "X8 = X_train_t15 ** 9\n",
    "X9 = X_train_t15 ** 10\n",
    "X10 = X_train_t15 ** 11\n",
    "X11 = X_train_t15 ** 12\n",
    "X12 = X_train_t15 ** 13\n",
    "X13 = X_train_t15 ** 14\n",
    "X14 = X_train_t15 ** 15\n",
    "\n",
    "X_train_t15 = np.hstack((X_train_t15,X1))\n",
    "X_train_t15 = np.column_stack((X_train_t15,X2))\n",
    "X_train_t15 = np.column_stack((X_train_t15,X3))\n",
    "X_train_t15 = np.column_stack((X_train_t15,X4))\n",
    "X_train_t15 = np.column_stack((X_train_t15,X5))\n",
    "X_train_t15 = np.column_stack((X_train_t15,X6))\n",
    "X_train_t15 = np.column_stack((X_train_t15,X7))\n",
    "X_train_t15 = np.column_stack((X_train_t15,X8))\n",
    "X_train_t15 = np.column_stack((X_train_t15,X9))\n",
    "X_train_t15 = np.column_stack((X_train_t15,X10))\n",
    "X_train_t15 = np.column_stack((X_train_t15,X11))\n",
    "X_train_t15 = np.column_stack((X_train_t15,X12))\n",
    "X_train_t15 = np.column_stack((X_train_t15,X13))\n",
    "X_train_t15 = np.column_stack((X_train_t15,X14))\n",
    "X_train_t15 = np.column_stack((X_train_t15,X_bias))\n",
    "print(X_train_t15)"
   ]
  },
  {
   "cell_type": "code",
   "execution_count": 52,
   "id": "c931dbe7",
   "metadata": {},
   "outputs": [
    {
     "name": "stdout",
     "output_type": "stream",
     "text": [
      "[[ 4.90432821e-01  2.40524352e-01  1.17961036e-01  5.78519639e-02\n",
      "   2.83725018e-02  1.39148061e-02  6.82427762e-03  3.34684972e-03\n",
      "   1.64140495e-03  8.04998861e-04  3.94797862e-04  1.93621829e-04\n",
      "   9.49584999e-05  4.65707650e-05  2.28398317e-05  1.00000000e+00]\n",
      " [-7.13459670e-02  5.09024701e-03 -3.63168595e-04  2.59106146e-05\n",
      "  -1.84861785e-06  1.31891428e-07 -9.40992150e-09  6.71359949e-10\n",
      "  -4.78988247e-11  3.41738797e-12 -2.43816849e-13  1.73953489e-14\n",
      "  -1.24108799e-15  8.85466226e-17 -6.31744441e-18  1.00000000e+00]\n",
      " [ 7.61290325e-01  5.79562959e-01  4.41215673e-01  3.35893223e-01\n",
      "   2.55712261e-01  1.94671270e-01  1.48201355e-01  1.12824258e-01\n",
      "   8.58920157e-02  6.53887605e-02  4.97798307e-02  3.78969035e-02\n",
      "   2.88505460e-02  2.19636415e-02  1.67207078e-02  1.00000000e+00]\n",
      " [ 6.83505550e-01  4.67179837e-01  3.19320011e-01  2.18257000e-01\n",
      "   1.49179871e-01  1.01965270e-01  6.96938277e-02  4.76361180e-02\n",
      "   3.25595511e-02  2.22546339e-02  1.52111658e-02  1.03969162e-02\n",
      "   7.10634994e-03  4.85722962e-03  3.31994340e-03  1.00000000e+00]\n",
      " [ 8.83670177e-01  7.80872982e-01  6.90034166e-01  6.09762614e-01\n",
      "   5.38829037e-01  4.76147150e-01  4.20757037e-01  3.71810445e-01\n",
      "   3.28557802e-01  2.90336731e-01  2.56561910e-01  2.26716109e-01\n",
      "   2.00342264e-01  1.77036484e-01  1.56441861e-01  1.00000000e+00]\n",
      " [-1.89990693e-01  3.60964634e-02 -6.85799210e-03  1.30295467e-03\n",
      "  -2.47549261e-04  4.70320557e-05 -8.93565285e-06  1.69769088e-06\n",
      "  -3.22545466e-07  6.12806367e-08 -1.16427506e-08  2.21201426e-09\n",
      "  -4.20262122e-10  7.98458918e-11 -1.51699763e-11  1.00000000e+00]\n",
      " [-8.76220843e-01  7.67762966e-01 -6.72729913e-01  5.89459972e-01\n",
      "  -5.16497113e-01  4.52565536e-01 -3.96547355e-01  3.47463058e-01\n",
      "  -3.04454374e-01  2.66769268e-01 -2.33748793e-01  2.04815564e-01\n",
      "  -1.79463666e-01  1.57249805e-01 -1.37785557e-01  1.00000000e+00]\n",
      " [ 2.01229335e-01  4.04932453e-02  8.14842882e-03  1.63970291e-03\n",
      "   3.29956327e-04  6.63968922e-05  1.33610025e-05  2.68862564e-06\n",
      "   5.41030350e-07  1.08871177e-07  2.19080746e-08  4.40854729e-09\n",
      "   8.87129040e-10  1.78516387e-10  3.59227338e-11  1.00000000e+00]\n",
      " [-7.15680491e-01  5.12198565e-01 -3.66570521e-01  2.62347370e-01\n",
      "  -1.87756895e-01  1.34373947e-01 -9.61688121e-02  6.88261426e-02\n",
      "  -4.92575276e-02  3.52526515e-02 -2.52296349e-02  1.80563575e-02\n",
      "  -1.29225828e-02  9.24844042e-03 -6.61892838e-03  1.00000000e+00]\n",
      " [-7.57671747e-01  5.74066476e-01 -4.34953950e-01  3.29552319e-01\n",
      "  -2.49692481e-01  1.89184939e-01 -1.43340083e-01  1.08604731e-01\n",
      "  -8.22867363e-02  6.23463352e-02 -4.72380567e-02  3.57909410e-02\n",
      "  -2.71177848e-02  2.05463794e-02 -1.55674111e-02  1.00000000e+00]]\n"
     ]
    }
   ],
   "source": [
    "X_test_t15 = test.drop(columns=['Y']).to_numpy()\n",
    "X_bias = np.ones((X_test_t15.shape[0],1))\n",
    "X1 = X_test_t15 ** 2\n",
    "X2 = X_test_t15 ** 3\n",
    "X3 = X_test_t15 ** 4\n",
    "X4 = X_test_t15 ** 5\n",
    "X5 = X_test_t15 ** 6\n",
    "X6 = X_test_t15 ** 7\n",
    "X7 = X_test_t15 ** 8\n",
    "X8 = X_test_t15 ** 9\n",
    "X9 = X_test_t15 ** 10\n",
    "X10 = X_test_t15 ** 11\n",
    "X11 = X_test_t15 ** 12\n",
    "X12 = X_test_t15 ** 13\n",
    "X13 = X_test_t15 ** 14\n",
    "X14 = X_test_t15 ** 15\n",
    "\n",
    "X_test_t15 = np.hstack((X_test_t15,X1))\n",
    "X_test_t15 = np.column_stack((X_test_t15,X2))\n",
    "X_test_t15 = np.column_stack((X_test_t15,X3))\n",
    "X_test_t15 = np.column_stack((X_test_t15,X4))\n",
    "X_test_t15 = np.column_stack((X_test_t15,X5))\n",
    "X_test_t15 = np.column_stack((X_test_t15,X6))\n",
    "X_test_t15 = np.column_stack((X_test_t15,X7))\n",
    "X_test_t15 = np.column_stack((X_test_t15,X8))\n",
    "X_test_t15 = np.column_stack((X_test_t15,X9))\n",
    "X_test_t15 = np.column_stack((X_test_t15,X10))\n",
    "X_test_t15 = np.column_stack((X_test_t15,X11))\n",
    "X_test_t15 = np.column_stack((X_test_t15,X12))\n",
    "X_test_t15 = np.column_stack((X_test_t15,X13))\n",
    "X_test_t15 = np.column_stack((X_test_t15,X14))\n",
    "X_test_t15 = np.column_stack((X_test_t15,X_bias))\n",
    "print(X_test_t15)"
   ]
  },
  {
   "cell_type": "code",
   "execution_count": 53,
   "id": "8dd7e7b0",
   "metadata": {},
   "outputs": [
    {
     "name": "stdout",
     "output_type": "stream",
     "text": [
      "0.028996152560827923\n",
      "0.17127150102660166\n"
     ]
    }
   ],
   "source": [
    "final_normal_w_t15 = cal_normal_Equation(X_train_t15, Y_train)\n",
    "\n",
    "final_train_cost_normal_t15 = calculate_cost_func(X_train_t15 , Y_train , final_normal_w_t15)\n",
    "print(final_train_cost_normal_t15)\n",
    "\n",
    "Y_model_test_t15 = np.dot(X_test_t15 , final_normal_w_t15)\n",
    "final_test_cost_normal_t15 = calculate_cost_func(X_test_t15 , Y_test , final_normal_w_t15)\n",
    "print(final_test_cost_normal_t15)"
   ]
  },
  {
   "cell_type": "code",
   "execution_count": 54,
   "id": "5433bcc9",
   "metadata": {},
   "outputs": [
    {
     "name": "stdout",
     "output_type": "stream",
     "text": [
      "(32, 18)\n"
     ]
    },
    {
     "data": {
      "text/plain": [
       "[<matplotlib.lines.Line2D at 0x1c5ac6ec2e0>]"
      ]
     },
     "execution_count": 54,
     "metadata": {},
     "output_type": "execute_result"
    },
    {
     "data": {
      "image/png": "[encoded data removed]",
      "text/plain": [
       "<Figure size 432x288 with 1 Axes>"
      ]
     },
     "metadata": {
      "needs_background": "light"
     },
     "output_type": "display_data"
    }
   ],
   "source": [
    "Y_model_normal = np.dot(X_train_t15 , final_normal_w_t15)\n",
    "\n",
    "final_df_t15 = np.column_stack((X_train_t15,Y_model_normal))\n",
    "final_df_t15 = np.column_stack((final_df_t15,Y_train))\n",
    "\n",
    "final_df_t15 = final_df_t15[final_df_t15[:,0].astype(float).argsort()]\n",
    "\n",
    "print(final_df_t15.shape)\n",
    "\n",
    "X_train_sec= final_df_t15[:,0]\n",
    "Y_model = final_df_t15[:,16]\n",
    "\n",
    "y_train= final_df_t15[:,17]\n",
    "\n",
    "\n",
    "\n",
    "plt.scatter(X_train_sec, y_train,color='g')\n",
    "plt.plot(X_train_sec, Y_model,color='k')"
   ]
  },
  {
   "cell_type": "markdown",
   "id": "98701f99",
   "metadata": {},
   "source": [
    "q1_part_e"
   ]
  },
  {
   "cell_type": "code",
   "execution_count": 57,
   "id": "0233972b",
   "metadata": {},
   "outputs": [],
   "source": [
    "def cal_ridge(Xp , y, alpha):\n",
    "    w = np.linalg.inv(Xp.T.dot(Xp) + alpha * np.eye(Xp.shape[1])).dot(Xp.T).dot(y)\n",
    "    return w"
   ]
  },
  {
   "cell_type": "code",
   "execution_count": 86,
   "id": "523e9412",
   "metadata": {},
   "outputs": [
    {
     "name": "stdout",
     "output_type": "stream",
     "text": [
      "0.7468916425484682\n",
      "0.6778740926515089\n"
     ]
    }
   ],
   "source": [
    "final_ridge_w = cal_ridge(X_train, Y_train , 0.1)\n",
    "\n",
    "final_train_cost_ridge = calculate_cost_func(X_train , Y_train , final_ridge_w)\n",
    "print(final_train_cost_ridge)\n",
    "\n",
    "Y_model_test_ridge = np.dot(X_test , final_ridge_w)\n",
    "final_test_cost_ridge = calculate_cost_func(X_test , Y_test , final_ridge_w)\n",
    "print(final_test_cost_ridge)"
   ]
  },
  {
   "cell_type": "code",
   "execution_count": 87,
   "id": "09eae303",
   "metadata": {},
   "outputs": [
    {
     "name": "stdout",
     "output_type": "stream",
     "text": [
      "[-0.67504041  0.36864846 -0.14789673  0.40394395  0.29197362 -0.83816555\n",
      " -0.43965765  0.01118258 -0.91999857 -0.23752373 -0.51744435 -0.39161916\n",
      "  0.32666457 -0.46902353 -0.31301638 -0.59476007  0.64935207  0.72986599\n",
      " -0.95099594  0.44858126 -0.63326479 -0.27824516  0.5202286  -0.1160822\n",
      "  0.17097678  0.85135744 -0.55143476  0.92359719  0.5693768  -0.79884577\n",
      " -0.99478723  0.24526385]\n"
     ]
    },
    {
     "data": {
      "text/plain": [
       "[<matplotlib.lines.Line2D at 0x1c5ad2573d0>]"
      ]
     },
     "execution_count": 87,
     "metadata": {},
     "output_type": "execute_result"
    },
    {
     "data": {
      "image/png": "[encoded data removed]",
      "text/plain": [
       "<Figure size 432x288 with 1 Axes>"
      ]
     },
     "metadata": {
      "needs_background": "light"
     },
     "output_type": "display_data"
    }
   ],
   "source": [
    "Y_model_ridge = np.dot(X_train , final_ridge_w)\n",
    "\n",
    "X_train_sec = X_train[:,0]\n",
    "print(X_train_sec)\n",
    "plt.scatter(X_train_sec, Y_train,color='g')\n",
    "plt.plot(X_train_sec, Y_model_ridge,color='k')"
   ]
  },
  {
   "cell_type": "code",
   "execution_count": 84,
   "id": "913d2905",
   "metadata": {},
   "outputs": [
    {
     "name": "stdout",
     "output_type": "stream",
     "text": [
      "0.04906594959518419\n",
      "0.037313880842272704\n"
     ]
    }
   ],
   "source": [
    "final_ridge_w_t13 = cal_ridge(X_train_t13, Y_train, 0.1)\n",
    "\n",
    "final_train_cost_ridge_t13 = calculate_cost_func(X_train_t13 , Y_train , final_ridge_w_t13)\n",
    "print(final_train_cost_ridge_t13)\n",
    "\n",
    "Y_model_test_t13 = np.dot(X_test_t13 , final_ridge_w_t13)\n",
    "final_test_cost_ridge_t13 = calculate_cost_func(X_test_t13 , Y_test , final_ridge_w_t13)\n",
    "print(final_test_cost_ridge_t13)"
   ]
  },
  {
   "cell_type": "code",
   "execution_count": 85,
   "id": "ab088c60",
   "metadata": {},
   "outputs": [
    {
     "name": "stdout",
     "output_type": "stream",
     "text": [
      "(32, 16)\n"
     ]
    },
    {
     "data": {
      "text/plain": [
       "[<matplotlib.lines.Line2D at 0x1c5ad1f58b0>]"
      ]
     },
     "execution_count": 85,
     "metadata": {},
     "output_type": "execute_result"
    },
    {
     "data": {
      "image/png": "[encoded data removed]",
      "text/plain": [
       "<Figure size 432x288 with 1 Axes>"
      ]
     },
     "metadata": {
      "needs_background": "light"
     },
     "output_type": "display_data"
    }
   ],
   "source": [
    "Y_model_ridge = np.dot(X_train_t13 , final_ridge_w_t13)\n",
    "\n",
    "ridge_df_t13 = np.column_stack((X_train_t13,Y_model_ridge))\n",
    "ridge_df_t13 = np.column_stack((ridge_df_t13,Y_train))\n",
    "\n",
    "ridge_df_t13 = ridge_df_t13[ridge_df_t13[:,0].astype(float).argsort()]\n",
    "\n",
    "print(ridge_df_t13.shape)\n",
    "\n",
    "X_train_sec= ridge_df_t13[:,0]\n",
    "Y_model = ridge_df_t13[:,14]\n",
    "\n",
    "y_train= ridge_df_t13[:,15]\n",
    "\n",
    "\n",
    "\n",
    "plt.scatter(X_train_sec, y_train,color='g')\n",
    "plt.plot(X_train_sec, Y_model,color='k')"
   ]
  },
  {
   "cell_type": "code",
   "execution_count": 82,
   "id": "3b2cb47f",
   "metadata": {},
   "outputs": [
    {
     "name": "stdout",
     "output_type": "stream",
     "text": [
      "0.04897778132428582\n",
      "0.03805453910309131\n"
     ]
    }
   ],
   "source": [
    "final_ridge_w_t15 = cal_ridge(X_train_t15, Y_train , 0.1)\n",
    "\n",
    "final_train_cost_ridge_t15 = calculate_cost_func(X_train_t15 , Y_train , final_ridge_w_t15)\n",
    "print(final_train_cost_ridge_t15)\n",
    "\n",
    "Y_model_test_t15 = np.dot(X_test_t15 , final_ridge_w_t15)\n",
    "final_test_cost_ridge_t15 = calculate_cost_func(X_test_t15 , Y_test , final_ridge_w_t15)\n",
    "print(final_test_cost_ridge_t15)"
   ]
  },
  {
   "cell_type": "code",
   "execution_count": 83,
   "id": "6eb8779f",
   "metadata": {},
   "outputs": [
    {
     "name": "stdout",
     "output_type": "stream",
     "text": [
      "(32, 18)\n"
     ]
    },
    {
     "data": {
      "text/plain": [
       "[<matplotlib.lines.Line2D at 0x1c5ad199370>]"
      ]
     },
     "execution_count": 83,
     "metadata": {},
     "output_type": "execute_result"
    },
    {
     "data": {
      "image/png": "[encoded data removed]",
      "text/plain": [
       "<Figure size 432x288 with 1 Axes>"
      ]
     },
     "metadata": {
      "needs_background": "light"
     },
     "output_type": "display_data"
    }
   ],
   "source": [
    "Y_model_ridge = np.dot(X_train_t15 , final_ridge_w_t15)\n",
    "\n",
    "ridge_df_t15 = np.column_stack((X_train_t15,Y_model_ridge))\n",
    "ridge_df_t15 = np.column_stack((ridge_df_t15,Y_train))\n",
    "\n",
    "ridge_df_t15 = ridge_df_t15[ridge_df_t15[:,0].astype(float).argsort()]\n",
    "\n",
    "print(ridge_df_t15.shape)\n",
    "\n",
    "X_train_sec= ridge_df_t15[:,0]\n",
    "Y_model = ridge_df_t15[:,16]\n",
    "\n",
    "y_train= ridge_df_t15[:,17]\n",
    "\n",
    "\n",
    "\n",
    "plt.scatter(X_train_sec, y_train,color='g')\n",
    "plt.plot(X_train_sec, Y_model,color='k')"
   ]
  },
  {
   "cell_type": "markdown",
   "id": "88250dc6",
   "metadata": {},
   "source": [
    "q1_part_F"
   ]
  },
  {
   "cell_type": "code",
   "execution_count": 94,
   "id": "5f874056",
   "metadata": {},
   "outputs": [],
   "source": [
    "from sklearn.linear_model import Lasso"
   ]
  },
  {
   "cell_type": "code",
   "execution_count": 95,
   "id": "7e2eb492",
   "metadata": {},
   "outputs": [
    {
     "name": "stdout",
     "output_type": "stream",
     "text": [
      "weights(sklearn): [-0.86577882 -4.08412143 -0.         -0.         -0.         -0.\n",
      " -0.          0.         -0.          0.         -0.          0.\n",
      " -0.          0.        ]\n"
     ]
    }
   ],
   "source": [
    "model_lasso = Lasso(alpha=0.01)\n",
    "model_lasso.fit(X_train_t13, Y_train) \n",
    "print(f\"weights(sklearn): {model_lasso.coef_}\")"
   ]
  },
  {
   "cell_type": "code",
   "execution_count": 96,
   "id": "e9a63052",
   "metadata": {},
   "outputs": [
    {
     "name": "stdout",
     "output_type": "stream",
     "text": [
      "[[-8.36396899e-01]\n",
      " [-2.97936669e+00]\n",
      " [-9.47005375e-02]\n",
      " [-1.45742579e+00]\n",
      " [-2.25156392e-02]\n",
      " [-3.61830478e-01]\n",
      " [ 1.65494567e-02]\n",
      " [ 1.59437173e-01]\n",
      " [ 3.71226682e-02]\n",
      " [ 3.90335866e-01]\n",
      " [ 3.34349613e-02]\n",
      " [ 4.89143703e-01]\n",
      " [ 9.17057482e-03]\n",
      " [ 9.56472830e+00]]\n"
     ]
    }
   ],
   "source": [
    "print(final_ridge_w_t13)"
   ]
  },
  {
   "cell_type": "code",
   "execution_count": 97,
   "id": "edff2738",
   "metadata": {},
   "outputs": [
    {
     "name": "stdout",
     "output_type": "stream",
     "text": [
      "[[  -0.61356122]\n",
      " [  -4.25007031]\n",
      " [  -5.86928559]\n",
      " [  10.24180833]\n",
      " [  23.2167269 ]\n",
      " [ -65.13623244]\n",
      " [  13.35616076]\n",
      " [ 126.87854385]\n",
      " [-189.03383565]\n",
      " [ -91.01687789]\n",
      " [ 290.8982935 ]\n",
      " [  18.17823279]\n",
      " [-134.12904024]\n",
      " [   9.77039038]]\n"
     ]
    }
   ],
   "source": [
    "print(final_normal_w_t13)"
   ]
  },
  {
   "cell_type": "code",
   "execution_count": 98,
   "id": "93daba67",
   "metadata": {},
   "outputs": [
    {
     "name": "stdout",
     "output_type": "stream",
     "text": [
      "weights(sklearn): [-0.86577882 -4.08412143 -0.         -0.         -0.         -0.\n",
      " -0.          0.         -0.          0.         -0.          0.\n",
      " -0.          0.         -0.          0.        ]\n"
     ]
    }
   ],
   "source": [
    "model_lasso = Lasso(alpha=0.01)\n",
    "model_lasso.fit(X_train_t15, Y_train) \n",
    "print(f\"weights(sklearn): {model_lasso.coef_}\")"
   ]
  },
  {
   "cell_type": "code",
   "execution_count": 99,
   "id": "3dffd576",
   "metadata": {},
   "outputs": [
    {
     "name": "stdout",
     "output_type": "stream",
     "text": [
      "[[-8.30707624e-01]\n",
      " [-2.95706900e+00]\n",
      " [-1.12898975e-01]\n",
      " [-1.45771196e+00]\n",
      " [-4.37924744e-02]\n",
      " [-3.99962159e-01]\n",
      " [ 8.14733083e-03]\n",
      " [ 8.85537810e-02]\n",
      " [ 4.70905042e-02]\n",
      " [ 2.94542994e-01]\n",
      " [ 6.24693075e-02]\n",
      " [ 3.75125090e-01]\n",
      " [ 5.60714808e-02]\n",
      " [ 4.02685849e-01]\n",
      " [ 3.33284035e-02]\n",
      " [ 9.56278374e+00]]\n"
     ]
    }
   ],
   "source": [
    "print(final_ridge_w_t15)"
   ]
  },
  {
   "cell_type": "code",
   "execution_count": 100,
   "id": "83bccb03",
   "metadata": {},
   "outputs": [
    {
     "name": "stdout",
     "output_type": "stream",
     "text": [
      "[[ 1.80019779e+00]\n",
      " [-2.35856698e+01]\n",
      " [-1.01172088e+02]\n",
      " [ 3.94002344e+02]\n",
      " [ 1.21910503e+03]\n",
      " [-3.05145334e+03]\n",
      " [-6.91135184e+03]\n",
      " [ 1.12499154e+04]\n",
      " [ 2.08627893e+04]\n",
      " [-2.12275751e+04]\n",
      " [-3.43147271e+04]\n",
      " [ 1.97307726e+04]\n",
      " [ 2.88901591e+04]\n",
      " [-7.14101847e+03]\n",
      " [-9.71299729e+03]\n",
      " [ 9.99199204e+00]]\n"
     ]
    }
   ],
   "source": [
    "print(final_normal_w_t15)"
   ]
  },
  {
   "cell_type": "code",
   "execution_count": null,
   "id": "51c09476",
   "metadata": {},
   "outputs": [],
   "source": []
  }
 ],
 "metadata": {
  "kernelspec": {
   "display_name": "Python 3",
   "language": "python",
   "name": "python3"
  },
  "language_info": {
   "codemirror_mode": {
    "name": "ipython",
    "version": 3
   },
   "file_extension": ".py",
   "mimetype": "text/x-python",
   "name": "python",
   "nbconvert_exporter": "python",
   "pygments_lexer": "ipython3",
   "version": "3.8.8"
  }
 },
 "nbformat": 4,
 "nbformat_minor": 5
}
